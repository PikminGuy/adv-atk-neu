{
  "nbformat": 4,
  "nbformat_minor": 0,
  "metadata": {
    "colab": {
      "name": "Space Charge",
      "provenance": [],
      "collapsed_sections": [],
      "mount_file_id": "15N1eCWzutGxdizmc2kwRCjrSshFTHFnY",
      "authorship_tag": "ABX9TyPtbBqQyY5crYE4o8Q4xvPJ",
      "include_colab_link": true
    },
    "kernelspec": {
      "name": "python3",
      "display_name": "Python 3"
    }
  },
  "cells": [
    {
      "cell_type": "markdown",
      "metadata": {
        "id": "view-in-github",
        "colab_type": "text"
      },
      "source": [
        "<a href=\"https://colab.research.google.com/github/craycrayfish/adv-atk-neu/blob/master/Space_Charge.ipynb\" target=\"_parent\"><img src=\"https://colab.research.google.com/assets/colab-badge.svg\" alt=\"Open In Colab\"/></a>"
      ]
    },
    {
      "cell_type": "code",
      "metadata": {
        "id": "QQDbJxvm2qiq",
        "colab_type": "code",
        "colab": {}
      },
      "source": [
        "import os\n",
        "import numpy as np\n",
        "import tensorflow as tf\n",
        "import keras.metrics\n",
        "import pandas as pd\n",
        "import matplotlib.pyplot as plt\n",
        "from sklearn import preprocessing\n",
        "from sklearn.model_selection import train_test_split\n",
        "from sklearn.metrics import classification_report\n",
        "from keras.utils import to_categorical\n",
        "from tensorflow.keras.optimizers import RMSprop\n",
        "from tensorflow.keras.callbacks import EarlyStopping\n",
        "from scipy import ndimage\n",
        "\n",
        "class ParticleClassifier():\n",
        "    def __init__(self):\n",
        "        '''x and y is after preprocessing'''\n",
        "        self.path = None\n",
        "        self.images = None\n",
        "        self.labels = None\n",
        "        self.images_train = None\n",
        "        self.images_test = None\n",
        "        self.labels_train = None\n",
        "        self.labels_test = None\n",
        "        self.x = None\n",
        "        self.y = None\n",
        "        self.x_train = None\n",
        "        self.x_test = None\n",
        "        self.y_train = None\n",
        "        self.y_test = None\n",
        "        self.images_attacked = None\n",
        "        self.labels_attacked = None\n",
        "        self.x_attacked = None\n",
        "        self.y_attacked = None\n",
        "        self.predictions = None\n",
        "        self.attacked_predictions = None\n",
        "        self.images_set = [self.images_train, self.images_test, self.images_attacked]\n",
        "        self.x_set = [self.x_train, self.x_test, self.x_attacked]\n",
        "        self.labels_set = [self.labels_train, self.labels_test]\n",
        "        \n",
        "        self.model = tf.keras.models.Sequential([\n",
        "        # Note the input shape is the desired size of the image 50x50 with 1 bytes color\n",
        "        tf.keras.layers.Conv2D(64, (3,3), activation='relu', input_shape=(50, 50, 1)),\n",
        "        tf.keras.layers.MaxPooling2D(2, 2),\n",
        "        tf.keras.layers.Conv2D(32, (3,3), activation='relu'),\n",
        "        tf.keras.layers.MaxPooling2D(2, 2),\n",
        "        tf.keras.layers.Conv2D(16, (3,3), activation='relu'),\n",
        "        tf.keras.layers.MaxPooling2D(2, 2),\n",
        "        tf.keras.layers.Flatten(),\n",
        "        # 512 neuron hidden layer\n",
        "        tf.keras.layers.Dense(512, activation='relu'),\n",
        "        tf.keras.layers.Dense(128, activation='relu'),\n",
        "        tf.keras.layers.Dense(32, activation='relu'),\n",
        "        tf.keras.layers.Dense(3, activation='softmax')\n",
        "        ])\n",
        "        \n",
        "        self.messages = {'load_data': 'Data loaded into self.images, self.labels',\n",
        "                         'train_test_split': 'Split into self.images_train, self.images_test, self.labels_train, self.labels_test',\n",
        "                         'pre_proc_train': 'Train images pre-processed into self.x_train',\n",
        "                         'pre_proc_test': 'Test images pre-processed into self.x_test',\n",
        "                         'one_hot_encode': 'Train and test labels encoded into self.y_train and self.y_test',\n",
        "                         'train_model': 'Model trained.',\n",
        "                         'gen_hot_channel_data': 'Hot channel data generated in self.images_attacked, self.labels_attacked, self.x_attacked, self.y_attacked'}\n",
        "            \n",
        "        \n",
        "    def __call__(self):\n",
        "        return\n",
        "        \n",
        "    def load_data(self, path='/content/drive/My Drive/Year 3/BSc Project - Adversarial Attacks in CNN/toy_data.csv'):\n",
        "        '''Loads data from path into self.labels and self.images'''\n",
        "        self.path = path\n",
        "        data = np.genfromtxt(path, delimiter=',')\n",
        "        self.labels = data[:,0].astype(int)\n",
        "        self.images = data[:, 1:].reshape((len(data),50,50,1))\n",
        "        print(self.messages['load_data'])\n",
        "        return self\n",
        "    \n",
        "    def train_test_split(self, images=None, labels=None, test_size=0.2):\n",
        "        '''Wrapper around train_test_split'''\n",
        "        if images is None:\n",
        "            images = self.images\n",
        "        if labels is None:\n",
        "            labels = self.labels\n",
        "        self.images_train, self.images_test, self.labels_train, self.labels_test = \\\n",
        "        train_test_split(images, labels, test_size=test_size)\n",
        "        print(self.messages['train_test_split'])\n",
        "        return self\n",
        "        \n",
        "    def pre_proc_filter(self, images, size=2, sigma=2):\n",
        "        '''Applies Median filter and Gaussian filter to remove noise and hot\n",
        "        channels. Size refers to size of Median filter, sigma refers to Gaussian\n",
        "        filter parameter - larger for more blurring.\n",
        "        Parameters\n",
        "        ----------\n",
        "        size: int, optional \n",
        "        sigma: int, optional\n",
        "        '''\n",
        "        orig_shape = images.shape\n",
        "        images_new = []\n",
        "        for image in images.reshape((images.shape[0:-1])):        \n",
        "            image_new = ndimage.median_filter(image, size=size, mode='wrap')\n",
        "            image_new = ndimage.gaussian_filter(image_new, sigma=sigma)\n",
        "            images_new.append(image_new)\n",
        "        return np.array(images_new).reshape(orig_shape)\n",
        "    \n",
        "    def pre_proc_rescale(self, images, negative=False):\n",
        "        '''Subtract the mean, scales all image to between -1 and 1, and remove\n",
        "        all negative values (if False).\n",
        "        '''\n",
        "        orig_shape = images.shape\n",
        "        images_reshaped = images.reshape((orig_shape[0], -1))\n",
        "        images_scaled = np.subtract(images_reshaped, np.median(images_reshaped, axis=1, keepdims=True))\n",
        "        if not negative:\n",
        "            images_scaled[images_scaled < 0] = 0.\n",
        "        images_scaled = np.divide(images_scaled, np.max(images_scaled, axis=1, keepdims=True))\n",
        "        images_scaled = images_scaled.reshape(orig_shape)\n",
        "        return images_scaled\n",
        "    \n",
        "    def pre_proc(self, images, size=2, sigma=2, filters=False, rescale=True):\n",
        "        '''Helper function that removes applies pre-processing to givem images.\n",
        "        '''\n",
        "        x = images.copy()\n",
        "        if filters:\n",
        "            x = self.pre_proc_filter(x, size=size, sigma=sigma)\n",
        "        if rescale:\n",
        "            x = self.pre_proc_rescale(x)\n",
        "        return x\n",
        "    \n",
        "    def pre_proc_images(self, filters=False, rescale=True, \n",
        "                        train=False, test=False, attacked=False, size=2, sigma=2):\n",
        "        '''Pre-processes any of the 3 image sets (train, test, attacked).\n",
        "        Filters indicate if Median and Gaussian filters should be applied. \n",
        "        Rescale indicate if images should be rescaled.'''\n",
        "        if train:\n",
        "            self.x_train = self.pre_proc(self.images_train, size=size, \n",
        "                                         sigma=sigma, filters=filters, \n",
        "                                         rescale=rescale)\n",
        "        if test:\n",
        "            self.x_test = self.pre_proc(self.images_test, size=size, sigma=sigma,\n",
        "                                        filters=filters, rescale=rescale)\n",
        "        if attacked:\n",
        "            self.x_attacked = self.pre_proc(self.images_attacked, size=size,\n",
        "                                            sigma=sigma, filters=filters, \n",
        "                                            rescale=rescale)\n",
        "        return self\n",
        "    \n",
        "    def one_hot_encode_labels(self, train=False, test=False, attacked=False):\n",
        "        '''One hot encodes any of the 3 label sets (train, test, attacked).'''\n",
        "        if train:\n",
        "            self.y_train = to_categorical(self.labels_train)\n",
        "        if test:\n",
        "            self.y_test = to_categorical(self.labels_test)\n",
        "        if attacked:\n",
        "            self.y_attacked = to_categorical(self.labels_attacked)\n",
        "        print(self.messages['one_hot_encode'])\n",
        "        return self\n",
        "\n",
        "        \n",
        "    def train_model(self, x=None, y=None, val_split=0.2, epochs=10, verbose=1,\n",
        "                    callback=None, min_delta=0.2, patience=5):\n",
        "        '''Trains CNN model.'''\n",
        "        if x is None:\n",
        "            x = self.x_train\n",
        "        if y is None:\n",
        "            y = self.y_train\n",
        "        if callback is None:\n",
        "            self.callback = EarlyStopping(monitor='val_acc',\n",
        "                                      min_delta=min_delta,\n",
        "                                      patience=patience)\n",
        "            \n",
        "        self.model.compile(loss='categorical_crossentropy',\n",
        "                          optimizer='adam',\n",
        "                          metrics=['acc'])\n",
        "        \n",
        "        self.model.fit(x,\n",
        "                      y,  \n",
        "                      epochs=epochs,\n",
        "                      verbose=verbose,\n",
        "                      validation_split=val_split,\n",
        "                      callbacks=[self.callback])\n",
        "        print(self.messages['train_model'])\n",
        "        return self\n",
        "    \n",
        "    def evaluate_model(self, x_test=None, y_test=None):\n",
        "        '''Evaluate model against test set'''\n",
        "        if x_test is None:\n",
        "            x_test = self.x_test\n",
        "        if y_test is None:\n",
        "            y_test = self.y_test\n",
        "        self.model.evaluate(x_test, y_test)\n",
        "        y_pred = self.model.predict(x_test)\n",
        "        print(classification_report(np.argmax(y_test, axis=1), np.argmax(y_pred, axis=1)))\n",
        "        return self\n",
        "    \n",
        "    def gen_hot_channel_data(self, images=None, labels=None, value=None):\n",
        "        '''Adds a hot channel with double the max value at a random location \n",
        "        for each image.'''\n",
        "        change_self = False\n",
        "        if images is None:\n",
        "            images = self.images_test\n",
        "            change_self = True\n",
        "        if labels is None:\n",
        "            labels = self.labels_test\n",
        "        if value is None:\n",
        "            value = np.max(images) * 2\n",
        "        loc = np.random.randint(0, images.shape[2], size=(images.shape[0], 2))\n",
        "        images_edited = images.copy()\n",
        "        images_edited[np.arange(images.shape[0]),loc[:,0], loc[:,1]] = value\n",
        "        self.images_attacked = images_edited\n",
        "        self.x_attacked = self.pre_proc(self.images_attacked)\n",
        "        self.labels_attacked = labels\n",
        "        self.y_attacked = self.one_hot_encode_labels(labels)\n",
        "        print(self.messages['gen_hot_channel_data'])\n",
        "        return self\n",
        "    \n",
        "    def evaluate_attack(self, x=None, x_attacked=None, labels=None):\n",
        "        '''Evaluates the \n",
        "        against predictions without attack. Test data is used by default'''\n",
        "        if x is None:\n",
        "            x = self.x_test\n",
        "            x_attacked = self.x_attacked\n",
        "            labels_attacked = self.labels_attacked\n",
        "        original_pred = np.argmax(self.model.predict(x), axis=1).astype(int)\n",
        "        attacked_pred = np.argmax(self.model.predict(x_attacked), axis=1).astype(int)\n",
        "        self.predictions = original_pred\n",
        "        self.attacked_predictions = attacked_pred\n",
        "        print('Labels: {} \\n Original Predictions: {} \\n Attacked Predictions: {}'\\\n",
        "              .format(np.bincount(labels_attacked), np.bincount(original_pred), np.bincount(attacked_pred)))\n",
        "        print(classification_report(original_pred, attacked_pred)) \n",
        "        return self\n",
        "    \n",
        "    def apply_attack(self, attack, images=None, labels=None, **kwargs):\n",
        "        '''Update images_attacked and labels_attacked after applying attack\n",
        "        on an image set (test by default). '''\n",
        "        if images is None:\n",
        "            images = self.images_test\n",
        "        if labels is None:\n",
        "            labels = self.labels_test\n",
        "        images_edited = images.copy()\n",
        "        images_edited = attack(images, **kwargs)\n",
        "        \n",
        "        self.images_attacked = images_edited\n",
        "        self.labels_attacked = labels\n",
        "        return self\n",
        "        \n",
        "    def add_hot_area(self, images, size, value=None, pos=None):\n",
        "        '''Adds a hot channel at a given location pos=(x, y) with \n",
        "        size (i, j) for a given image.\n",
        "        :param images (n, x, y, 1)\n",
        "        :param pos (x, y), x and y are arrays of length n\n",
        "        :param size (i, j)\n",
        "        :param value to be replaced'''\n",
        "        if pos is None:\n",
        "            x = np.random.randint(0, images.shape[1]-size[0],\n",
        "                                  size=(images.shape[0],1))\n",
        "            y = np.random.randint(0, images.shape[2]-size[1], \n",
        "                                  size=(images.shape[0], 1))\n",
        "            pos = np.concatenate([x, y], axis=1)\n",
        "        if value is None:\n",
        "            value = images.max()\n",
        "        for i in range(size[0]):\n",
        "            for j in range(size[1]):\n",
        "                images[np.arange(images.shape[0]), pos[:,0]+i, pos[:,1]+j, 0] = value\n",
        "        return images\n",
        "    \n",
        "    def hot_pixel_attack(self, images=None, labels=None, value=None):\n",
        "        if images is None:\n",
        "            images = self.images_test\n",
        "        if labels is None:\n",
        "            labels = self.labels_test\n",
        "        if value is None:\n",
        "            value = np.max(images) * 2\n",
        "            \n",
        "        loc = np.random.randint(0, images.shape[2], size=(images.shape[0], 2))\n",
        "        self.apply_attack(self.add_hot_area, images, labels, \n",
        "                          size=[1,1], value=value, pos=loc)\n",
        "        return self\n",
        "        \n",
        "    def print_image(self, index, image_set):\n",
        "        '''Shows the nth image of an 4d image set of n images: (n, height, length, channel)'''\n",
        "        plt.imshow(image_set[index,:,:,0])\n",
        "        plt.show()\n",
        "    \n",
        "      "
      ],
      "execution_count": 0,
      "outputs": []
    },
    {
      "cell_type": "code",
      "metadata": {
        "id": "J_aXHR5_2uqg",
        "colab_type": "code",
        "outputId": "de9326e3-45bb-4171-c6e3-61a6c10aa984",
        "colab": {
          "base_uri": "https://localhost:8080/",
          "height": 493
        }
      },
      "source": [
        "classifier = ParticleClassifier()\\\n",
        "                .load_data('/content/drive/My Drive/Year 3/BSc Project - Adversarial Attacks in CNN/toy_data.csv')\\\n",
        "                .train_test_split()\\\n",
        "                .pre_proc_images(train=True, test=True)\\\n",
        "                .one_hot_encode_labels(train=True, test=True)\\\n",
        "                .train_model()\\\n",
        "                .evaluate_model()\\"
      ],
      "execution_count": 25,
      "outputs": [
        {
          "output_type": "stream",
          "text": [
            "Data loaded into self.images, self.labels\n",
            "Split into self.images_train, self.images_test, self.labels_train, self.labels_test\n",
            "Train and test labels encoded into self.y_train and self.y_test\n",
            "Train on 1920 samples, validate on 480 samples\n",
            "Epoch 1/10\n",
            "1920/1920 [==============================] - 9s 5ms/sample - loss: 0.6406 - acc: 0.6635 - val_loss: 0.2862 - val_acc: 0.8875\n",
            "Epoch 2/10\n",
            "1920/1920 [==============================] - 9s 4ms/sample - loss: 0.2725 - acc: 0.8948 - val_loss: 0.2492 - val_acc: 0.9146\n",
            "Epoch 3/10\n",
            "1920/1920 [==============================] - 9s 5ms/sample - loss: 0.2524 - acc: 0.8974 - val_loss: 0.2094 - val_acc: 0.9229\n",
            "Epoch 4/10\n",
            "1920/1920 [==============================] - 8s 4ms/sample - loss: 0.2158 - acc: 0.9167 - val_loss: 0.2111 - val_acc: 0.9208\n",
            "Epoch 5/10\n",
            "1920/1920 [==============================] - 9s 4ms/sample - loss: 0.1787 - acc: 0.9375 - val_loss: 0.1704 - val_acc: 0.9458\n",
            "Epoch 6/10\n",
            "1920/1920 [==============================] - 8s 4ms/sample - loss: 0.1639 - acc: 0.9443 - val_loss: 0.1253 - val_acc: 0.9583\n",
            "Model trained.\n",
            "600/600 [==============================] - 1s 1ms/sample - loss: 0.1211 - acc: 0.9533\n",
            "              precision    recall  f1-score   support\n",
            "\n",
            "           0       0.95      0.94      0.95       197\n",
            "           1       0.97      0.99      0.98       190\n",
            "           2       0.94      0.93      0.93       213\n",
            "\n",
            "    accuracy                           0.95       600\n",
            "   macro avg       0.95      0.95      0.95       600\n",
            "weighted avg       0.95      0.95      0.95       600\n",
            "\n"
          ],
          "name": "stdout"
        }
      ]
    },
    {
      "cell_type": "code",
      "metadata": {
        "id": "1Mo7pOr53VgM",
        "colab_type": "code",
        "colab": {}
      },
      "source": [
        "# space charge attack\n",
        "from keras.preprocessing import image\n",
        "\n",
        "def space_attack(n):\n",
        "  old_pred = np.argmax(classifier.y_test[n])\n",
        "  plt.imshow(classifier.x_test[n][:,:,0])\n",
        "  plt.show()\n",
        "  img_copy = classifier.x_test[n][:,:,0].copy()\n",
        "  (a, b) = np.unravel_index(np.argmax(img_copy), (50, 50))\n",
        "  new_val = np.min(img_copy)\n",
        "  img_copy[:,:] = new_val\n",
        "  plt.imshow(img_copy)\n",
        "  plt.show()\n",
        "  new_pred = np.argmax(classifier.model.predict(img_copy.reshape((1, 50, 50, 1))))\n",
        "  print('Old prediction', old_pred, ',', 'New prediction', new_pred)\n"
      ],
      "execution_count": 0,
      "outputs": []
    },
    {
      "cell_type": "code",
      "metadata": {
        "id": "l10X3dsv3tPY",
        "colab_type": "code",
        "outputId": "60d6de2a-1e42-4ea7-82d1-c3bda5effbe6",
        "colab": {
          "base_uri": "https://localhost:8080/",
          "height": 534
        }
      },
      "source": [
        "space_attack(10)"
      ],
      "execution_count": 36,
      "outputs": [
        {
          "output_type": "display_data",
          "data": {
            "image/png": "[encoded data removed]",
            "text/plain": [
              "<Figure size 432x288 with 1 Axes>"
            ]
          },
          "metadata": {
            "tags": []
          }
        },
        {
          "output_type": "display_data",
          "data": {
            "image/png": "[encoded data removed]",
            "text/plain": [
              "<Figure size 432x288 with 1 Axes>"
            ]
          },
          "metadata": {
            "tags": []
          }
        },
        {
          "output_type": "stream",
          "text": [
            "Old prediction 1 , New prediction 1\n"
          ],
          "name": "stdout"
        }
      ]
    },
    {
      "cell_type": "code",
      "metadata": {
        "id": "KY1sKPpi9rv2",
        "colab_type": "code",
        "outputId": "f1c69251-8c22-42f7-c692-16cdb1effced",
        "colab": {
          "base_uri": "https://localhost:8080/",
          "height": 534
        }
      },
      "source": [
        "space_attack(8)"
      ],
      "execution_count": 39,
      "outputs": [
        {
          "output_type": "display_data",
          "data": {
            "image/png": "[encoded data removed]",
            "text/plain": [
              "<Figure size 432x288 with 1 Axes>"
            ]
          },
          "metadata": {
            "tags": []
          }
        },
        {
          "output_type": "display_data",
          "data": {
            "image/png": "[encoded data removed]",
            "text/plain": [
              "<Figure size 432x288 with 1 Axes>"
            ]
          },
          "metadata": {
            "tags": []
          }
        },
        {
          "output_type": "stream",
          "text": [
            "Old prediction 1 , New prediction 2\n"
          ],
          "name": "stdout"
        }
      ]
    },
    {
      "cell_type": "code",
      "metadata": {
        "id": "LkplfE_W9weE",
        "colab_type": "code",
        "outputId": "afb1818d-738a-42b2-dab2-97efded5ea24",
        "colab": {
          "base_uri": "https://localhost:8080/",
          "height": 534
        }
      },
      "source": [
        "space_attack(35)"
      ],
      "execution_count": 46,
      "outputs": [
        {
          "output_type": "display_data",
          "data": {
            "image/png": "[encoded data removed]",
            "text/plain": [
              "<Figure size 432x288 with 1 Axes>"
            ]
          },
          "metadata": {
            "tags": []
          }
        },
        {
          "output_type": "display_data",
          "data": {
            "image/png": "[encoded data removed]",
            "text/plain": [
              "<Figure size 432x288 with 1 Axes>"
            ]
          },
          "metadata": {
            "tags": []
          }
        },
        {
          "output_type": "stream",
          "text": [
            "Old prediction 2 , New prediction 1\n"
          ],
          "name": "stdout"
        }
      ]
    },
    {
      "cell_type": "code",
      "metadata": {
        "id": "tzMh4q1p-DDx",
        "colab_type": "code",
        "colab": {}
      },
      "source": [
        ""
      ],
      "execution_count": 0,
      "outputs": []
    }
  ]
}