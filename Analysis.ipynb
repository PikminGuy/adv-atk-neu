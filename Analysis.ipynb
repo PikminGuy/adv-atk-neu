{
 "cells": [
  {
   "cell_type": "code",
   "execution_count": 5,
   "metadata": {},
   "outputs": [],
   "source": [
    "from model import ParticleClassifier\n",
    "import numpy as np\n",
    "import matplotlib.pyplot as plt"
   ]
  },
  {
   "cell_type": "code",
   "execution_count": 6,
   "metadata": {},
   "outputs": [
    {
     "name": "stdout",
     "output_type": "stream",
     "text": [
      "Data loaded into self.images, self.labels\n",
      "Split into self.images_train, self.images_test, self.labels_train, self.labels_test\n",
      "Train and test labels encoded into self.y_train and self.y_test\n",
      "Train on 1920 samples, validate on 480 samples\n",
      "Epoch 1/10\n",
      "1920/1920 [==============================] - 7s 4ms/sample - loss: 0.6903 - acc: 0.6573 - val_loss: 0.3183 - val_acc: 0.8500\n",
      "Epoch 2/10\n",
      "1920/1920 [==============================] - 5s 3ms/sample - loss: 0.2945 - acc: 0.8906 - val_loss: 0.3173 - val_acc: 0.8667\n",
      "Epoch 3/10\n",
      "1920/1920 [==============================] - 5s 3ms/sample - loss: 0.2657 - acc: 0.8922 - val_loss: 0.2341 - val_acc: 0.9208\n",
      "Epoch 4/10\n",
      "1920/1920 [==============================] - 5s 3ms/sample - loss: 0.2001 - acc: 0.9240 - val_loss: 0.1809 - val_acc: 0.9333\n",
      "Epoch 5/10\n",
      "1920/1920 [==============================] - 5s 3ms/sample - loss: 0.1302 - acc: 0.9557 - val_loss: 0.1657 - val_acc: 0.9438\n",
      "Epoch 6/10\n",
      "1920/1920 [==============================] - 5s 3ms/sample - loss: 0.1100 - acc: 0.9620 - val_loss: 0.1283 - val_acc: 0.9542\n",
      "Model trained.\n",
      "600/600 [==============================] - 0s 761us/sample - loss: 0.1269 - acc: 0.9633\n",
      "              precision    recall  f1-score   support\n",
      "\n",
      "           0       0.98      0.97      0.97       174\n",
      "           1       0.99      0.95      0.97       214\n",
      "           2       0.92      0.98      0.95       212\n",
      "\n",
      "   micro avg       0.96      0.96      0.96       600\n",
      "   macro avg       0.97      0.96      0.96       600\n",
      "weighted avg       0.96      0.96      0.96       600\n",
      "\n"
     ]
    }
   ],
   "source": [
    "classifier = ParticleClassifier()\\\n",
    "                .load_data('data/toy_data.csv')\\\n",
    "                .train_test_split()\\\n",
    "                .pre_proc_images(train=True, test=True)\\\n",
    "                .one_hot_encode_labels(train=True, test=True)\\\n",
    "                .train_model()\\\n",
    "                .evaluate_model()\\"
   ]
  },
  {
   "cell_type": "code",
   "execution_count": 3,
   "metadata": {},
   "outputs": [
    {
     "name": "stdout",
     "output_type": "stream",
     "text": [
      "Train and test labels encoded into self.y_train and self.y_test\n",
      "Labels: [183 202 215] \n",
      " Original Predictions: [196 204 200] \n",
      " Attacked Predictions: [  0 600]\n",
      "              precision    recall  f1-score   support\n",
      "\n",
      "           0       0.00      0.00      0.00       196\n",
      "           1       0.34      1.00      0.51       204\n",
      "           2       0.00      0.00      0.00       200\n",
      "\n",
      "   micro avg       0.34      0.34      0.34       600\n",
      "   macro avg       0.11      0.33      0.17       600\n",
      "weighted avg       0.12      0.34      0.17       600\n",
      "\n"
     ]
    },
    {
     "name": "stderr",
     "output_type": "stream",
     "text": [
      "/Users/shawn/miniconda3/envs/test/lib/python3.6/site-packages/sklearn/metrics/classification.py:1143: UndefinedMetricWarning: Precision and F-score are ill-defined and being set to 0.0 in labels with no predicted samples.\n",
      "  'precision', 'predicted', average, warn_for)\n"
     ]
    },
    {
     "data": {
      "text/plain": [
       "<model.ParticleClassifier at 0x1a2aa21400>"
      ]
     },
     "execution_count": 3,
     "metadata": {},
     "output_type": "execute_result"
    }
   ],
   "source": [
    "# Hot pixel attack\n",
    "classifier.hot_pixel_attack()\\\n",
    "          .pre_proc_images(attacked=True)\\\n",
    "          .one_hot_encode_labels(attacked=True)\\\n",
    "          .evaluate_attack()"
   ]
  },
  {
   "cell_type": "code",
   "execution_count": 7,
   "metadata": {},
   "outputs": [
    {
     "name": "stdout",
     "output_type": "stream",
     "text": [
      "Train and test labels encoded into self.y_train and self.y_test\n",
      "Labels: [174 214 212] \n",
      " Original Predictions: [171 205 224] \n",
      " Attacked Predictions: [  0 209 391]\n",
      "              precision    recall  f1-score   support\n",
      "\n",
      "           0       0.00      0.00      0.00       171\n",
      "           1       0.98      1.00      0.99       205\n",
      "           2       0.56      0.98      0.71       224\n",
      "\n",
      "   micro avg       0.70      0.70      0.70       600\n",
      "   macro avg       0.51      0.66      0.57       600\n",
      "weighted avg       0.54      0.70      0.60       600\n",
      "\n"
     ]
    }
   ],
   "source": [
    "value =  np.mean([classifier.images.max(), classifier.images.mean()])\n",
    "classifier = classifier.apply_attack(classifier.add_hot_area, size=(2,2), value=value)\\\n",
    "                       .pre_proc_images(attacked=True, filters=False)\\\n",
    "                       .one_hot_encode_labels(attacked=True)\\\n",
    "                       .evaluate_attack()"
   ]
  },
  {
   "cell_type": "code",
   "execution_count": null,
   "metadata": {},
   "outputs": [],
   "source": [
    "classifier.print_image(18, classifier.x_attacked)"
   ]
  },
  {
   "cell_type": "code",
   "execution_count": null,
   "metadata": {},
   "outputs": [],
   "source": [
    "classifier.print_image(18, classifier.x_test)"
   ]
  },
  {
   "cell_type": "code",
   "execution_count": null,
   "metadata": {},
   "outputs": [],
   "source": [
    "classifier.model.predict(np.reshape(classifier.x_attacked[18], (1,50,50,1)))"
   ]
  },
  {
   "cell_type": "code",
   "execution_count": null,
   "metadata": {},
   "outputs": [],
   "source": [
    "n = 1\n",
    "electrons = classifier.images[classifier.labels == 1]\n",
    "classifier.print_image(n, electrons, save='img/electron01.png')"
   ]
  },
  {
   "cell_type": "code",
   "execution_count": null,
   "metadata": {},
   "outputs": [],
   "source": [
    "value =  np.mean([classifier.images.max(), classifier.images.mean()])\n",
    "electron_attacked = electrons[n, :, :, 0].copy()\n",
    "electron_attacked[11:13, 2:6] = value\n",
    "electron_attacked[11:13, 9:16] = value\n",
    "plt.imshow(electron_attacked)\n",
    "plt.imsave('img/electron01_neutron.png', electron_attacked)"
   ]
  },
  {
   "cell_type": "code",
   "execution_count": null,
   "metadata": {},
   "outputs": [],
   "source": [
    "electron_attacked = np.reshape(electron_attacked, (1, 50, 50, 1))\n",
    "x = classifier.pre_proc(electron_attacked)\n",
    "np.argmax(classifier.model.predict(x))"
   ]
  },
  {
   "cell_type": "code",
   "execution_count": 8,
   "metadata": {},
   "outputs": [
    {
     "name": "stdout",
     "output_type": "stream",
     "text": [
      "Train and test labels encoded into self.y_train and self.y_test\n",
      "Labels: [174 214 212] \n",
      " Original Predictions: [171 205 224] \n",
      " Attacked Predictions: [117   0 483]\n",
      "              precision    recall  f1-score   support\n",
      "\n",
      "           0       0.32      0.22      0.26       171\n",
      "           1       0.00      0.00      0.00       205\n",
      "           2       0.37      0.80      0.51       224\n",
      "\n",
      "   micro avg       0.36      0.36      0.36       600\n",
      "   macro avg       0.23      0.34      0.25       600\n",
      "weighted avg       0.23      0.36      0.26       600\n",
      "\n"
     ]
    }
   ],
   "source": [
    "def gaussian_kernel(a, b, s = 10, A = 0.9):\n",
    "  '''\n",
    "  :param (a,b), the position of the mean of the gaussian, at (x, y)\n",
    "  :param s, standard deviation\n",
    "  :param A, the multiplication factor\n",
    "  \n",
    "  These parameters can be varied to study their effects on the model prediction ---> to make plots etc\n",
    "  '''\n",
    "  x, y = np.meshgrid(np.linspace(0,50), np.linspace(0,50))\n",
    "  e = (2*abs(x-a)**2 + 3*abs(y-b)**2)/(2*s**2)\n",
    "  g = np.exp(-e)\n",
    "  return -A*g + 1\n",
    "\n",
    "def space_attack2(images):         # for the model \n",
    "    images_edited = []\n",
    "    for i in images:\n",
    "        (b, a) = np.unravel_index(np.argmax(i[:,:,0]), (50, 50))\n",
    "        z = gaussian_kernel(a,b)\n",
    "        g_pic = np.multiply(i[:,:,0], z)\n",
    "        images_edited.append(g_pic)\n",
    "    return np.array(images_edited).reshape((-1, 50, 50, 1))\n",
    "\n",
    "classifier = classifier.apply_attack(space_attack2)\\\n",
    "                       .pre_proc_images(attacked=True, filters=False)\\\n",
    "                       .one_hot_encode_labels(attacked=True)\\\n",
    "                       .evaluate_attack()"
   ]
  },
  {
   "cell_type": "code",
   "execution_count": 9,
   "metadata": {},
   "outputs": [
    {
     "data": {
      "image/png": "[encoded data removed]",
      "text/plain": [
       "<Figure size 432x288 with 1 Axes>"
      ]
     },
     "metadata": {
      "needs_background": "light"
     },
     "output_type": "display_data"
    },
    {
     "data": {
      "text/plain": [
       "<model.ParticleClassifier at 0x1035ee828>"
      ]
     },
     "execution_count": 9,
     "metadata": {},
     "output_type": "execute_result"
    }
   ],
   "source": [
    "classifier.print_image(2, classifier.images_attacked)"
   ]
  },
  {
   "cell_type": "code",
   "execution_count": 10,
   "metadata": {},
   "outputs": [
    {
     "data": {
      "image/png": "[encoded data removed]",
      "text/plain": [
       "<Figure size 432x288 with 1 Axes>"
      ]
     },
     "metadata": {
      "needs_background": "light"
     },
     "output_type": "display_data"
    },
    {
     "data": {
      "text/plain": [
       "<model.ParticleClassifier at 0x1035ee828>"
      ]
     },
     "execution_count": 10,
     "metadata": {},
     "output_type": "execute_result"
    }
   ],
   "source": [
    "classifier.print_image(2, classifier.images_test)"
   ]
  },
  {
   "cell_type": "code",
   "execution_count": null,
   "metadata": {},
   "outputs": [],
   "source": []
  }
 ],
 "metadata": {
  "kernelspec": {
   "display_name": "Python 3",
   "language": "python",
   "name": "python3"
  },
  "language_info": {
   "codemirror_mode": {
    "name": "ipython",
    "version": 3
   },
   "file_extension": ".py",
   "mimetype": "text/x-python",
   "name": "python",
   "nbconvert_exporter": "python",
   "pygments_lexer": "ipython3",
   "version": "3.6.7"
  }
 },
 "nbformat": 4,
 "nbformat_minor": 2
}
