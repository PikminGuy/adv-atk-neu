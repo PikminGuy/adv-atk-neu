{
 "cells": [
  {
   "cell_type": "code",
   "execution_count": 7,
   "metadata": {},
   "outputs": [],
   "source": [
    "from model import ParticleClassifier\n",
    "import numpy as np"
   ]
  },
  {
   "cell_type": "code",
   "execution_count": null,
   "metadata": {},
   "outputs": [],
   "source": [
    "classifier = ParticleClassifier()\\\n",
    "                .load_data('data/toy_data.csv')\\\n",
    "                .train_test_split()\\\n",
    "                .pre_proc_images(train=True, test=True)\\\n",
    "                .one_hot_encode_labels(train=True, test=True)\\\n",
    "                .train_model()\\\n",
    "                .evaluate_model()\\"
   ]
  },
  {
   "cell_type": "code",
   "execution_count": null,
   "metadata": {},
   "outputs": [],
   "source": [
    "# Hot pixel attack\n",
    "classifier.hot_pixel_attack()\\\n",
    "          .pre_proc_images(attacked=True)\\\n",
    "          .one_hot_encode_labels(attacked=True)\\\n",
    "          .evaluate_attack()"
   ]
  },
  {
   "cell_type": "code",
   "execution_count": 8,
   "metadata": {},
   "outputs": [
    {
     "name": "stdout",
     "output_type": "stream",
     "text": [
      "Data loaded into self.images, self.labels\n",
      "Split into self.images_train, self.images_test, self.labels_train, self.labels_test\n",
      "Train and test labels encoded into self.y_train and self.y_test\n",
      "Train on 1920 samples, validate on 480 samples\n",
      "Epoch 1/10\n",
      "1920/1920 [==============================] - 7s 3ms/sample - loss: 0.7038 - acc: 0.6594 - val_loss: 0.4882 - val_acc: 0.8396\n",
      "Epoch 2/10\n",
      "1920/1920 [==============================] - 5s 3ms/sample - loss: 0.2922 - acc: 0.8828 - val_loss: 0.3514 - val_acc: 0.8500\n",
      "Epoch 3/10\n",
      "1920/1920 [==============================] - 5s 3ms/sample - loss: 0.2394 - acc: 0.9094 - val_loss: 0.2405 - val_acc: 0.9062\n",
      "Epoch 4/10\n",
      "1920/1920 [==============================] - 5s 3ms/sample - loss: 0.2195 - acc: 0.9172 - val_loss: 0.2584 - val_acc: 0.9042\n",
      "Epoch 5/10\n",
      "1920/1920 [==============================] - 5s 3ms/sample - loss: 0.2032 - acc: 0.9271 - val_loss: 0.2034 - val_acc: 0.9271\n",
      "Epoch 6/10\n",
      "1920/1920 [==============================] - 5s 3ms/sample - loss: 0.1721 - acc: 0.9438 - val_loss: 0.2568 - val_acc: 0.9125\n",
      "Model trained.\n",
      "600/600 [==============================] - 0s 674us/sample - loss: 0.2849 - acc: 0.8983\n",
      "              precision    recall  f1-score   support\n",
      "\n",
      "           0       0.93      0.96      0.95       193\n",
      "           1       0.97      0.83      0.90       209\n",
      "           2       0.81      0.90      0.85       198\n",
      "\n",
      "   micro avg       0.90      0.90      0.90       600\n",
      "   macro avg       0.90      0.90      0.90       600\n",
      "weighted avg       0.91      0.90      0.90       600\n",
      "\n",
      "Train and test labels encoded into self.y_train and self.y_test\n",
      "Labels: [193 209 198] \n",
      " Original Predictions: [200 179 221] \n",
      " Attacked Predictions: [  0 164 436]\n",
      "              precision    recall  f1-score   support\n",
      "\n",
      "           0       0.00      0.00      0.00       200\n",
      "           1       1.00      0.92      0.96       179\n",
      "           2       0.51      1.00      0.67       221\n",
      "\n",
      "   micro avg       0.64      0.64      0.64       600\n",
      "   macro avg       0.50      0.64      0.54       600\n",
      "weighted avg       0.49      0.64      0.53       600\n",
      "\n"
     ]
    }
   ],
   "source": [
    "# Background Neutrons (2x2) square of relatively high value\n",
    "classifier = ParticleClassifier()\\\n",
    "                .load_data('data/toy_data.csv')\\\n",
    "                .train_test_split()\\\n",
    "                .pre_proc_images(train=True, test=True, filters=False)\\\n",
    "                .one_hot_encode_labels(train=True, test=True)\\\n",
    "                .train_model()\\\n",
    "                .evaluate_model()\n",
    "value =  np.mean([classifier.images.max(), classifier.images.mean()])\n",
    "classifier = classifier.apply_attack(classifier.add_hot_area, size=(2,2), value=value)\\\n",
    "                       .pre_proc_images(attacked=True, filters=False)\\\n",
    "                       .one_hot_encode_labels(attacked=True)\\\n",
    "                       .evaluate_attack()"
   ]
  },
  {
   "cell_type": "code",
   "execution_count": 23,
   "metadata": {},
   "outputs": [
    {
     "data": {
      "image/png": "[encoded data removed]",
      "text/plain": [
       "<Figure size 432x288 with 1 Axes>"
      ]
     },
     "metadata": {
      "needs_background": "light"
     },
     "output_type": "display_data"
    },
    {
     "data": {
      "text/plain": [
       "<model.ParticleClassifier at 0x10f0575c0>"
      ]
     },
     "execution_count": 23,
     "metadata": {},
     "output_type": "execute_result"
    }
   ],
   "source": [
    "classifier.print_image(18, classifier.x_attacked)"
   ]
  },
  {
   "cell_type": "code",
   "execution_count": 27,
   "metadata": {},
   "outputs": [
    {
     "data": {
      "text/plain": [
       "array([[6.2665507e-08, 9.6418679e-01, 3.5813104e-02]], dtype=float32)"
      ]
     },
     "execution_count": 27,
     "metadata": {},
     "output_type": "execute_result"
    }
   ],
   "source": [
    "classifier.model.predict(np.reshape(classifier.x_attacked[18], (1,50,50,1)))"
   ]
  },
  {
   "cell_type": "code",
   "execution_count": null,
   "metadata": {},
   "outputs": [],
   "source": [
    "images = classfier.images\n",
    "value =  np.mean([classifier.images.max(), classifier.images.mean()])\n",
    "classifier.apply_attack(classifier.add_hot_area, size=(2,2), value=value)"
   ]
  },
  {
   "cell_type": "code",
   "execution_count": null,
   "metadata": {},
   "outputs": [],
   "source": [
    "np.mean([classifier.images.max(), classifier.images.mean()])"
   ]
  }
 ],
 "metadata": {
  "kernelspec": {
   "display_name": "Python 3",
   "language": "python",
   "name": "python3"
  },
  "language_info": {
   "codemirror_mode": {
    "name": "ipython",
    "version": 3
   },
   "file_extension": ".py",
   "mimetype": "text/x-python",
   "name": "python",
   "nbconvert_exporter": "python",
   "pygments_lexer": "ipython3",
   "version": "3.6.7"
  }
 },
 "nbformat": 4,
 "nbformat_minor": 2
}
