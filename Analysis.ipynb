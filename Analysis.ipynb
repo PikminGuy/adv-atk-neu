{
 "cells": [
  {
   "cell_type": "code",
   "execution_count": 4,
   "metadata": {},
   "outputs": [],
   "source": [
    "from model import ParticleClassifier\n",
    "import numpy as np"
   ]
  },
  {
   "cell_type": "code",
   "execution_count": null,
   "metadata": {},
   "outputs": [],
   "source": [
    "classifier = ParticleClassifier()\\\n",
    "                .load_data('data/toy_data.csv')\\\n",
    "                .train_test_split()\\\n",
    "                .pre_proc_images(train=True, test=True)\\\n",
    "                .one_hot_encode_labels(train=True, test=True)\\\n",
    "                .train_model()\\\n",
    "                .evaluate_model()\\"
   ]
  },
  {
   "cell_type": "code",
   "execution_count": null,
   "metadata": {},
   "outputs": [],
   "source": [
    "# Hot pixel attack\n",
    "classifier.hot_pixel_attack()\\\n",
    "          .pre_proc_images(attacked=True)\\\n",
    "          .one_hot_encode_labels(attacked=True)\\\n",
    "          .evaluate_attack()"
   ]
  },
  {
   "cell_type": "code",
   "execution_count": 6,
   "metadata": {},
   "outputs": [
    {
     "name": "stdout",
     "output_type": "stream",
     "text": [
      "WARNING:tensorflow:From /Users/shawn/miniconda3/envs/test/lib/python3.6/site-packages/tensorflow/python/ops/resource_variable_ops.py:435: colocate_with (from tensorflow.python.framework.ops) is deprecated and will be removed in a future version.\n",
      "Instructions for updating:\n",
      "Colocations handled automatically by placer.\n",
      "Data loaded into self.images, self.labels\n",
      "Split into self.images_train, self.images_test, self.labels_train, self.labels_test\n",
      "Train and test labels encoded into self.y_train and self.y_test\n",
      "Train on 1920 samples, validate on 480 samples\n",
      "WARNING:tensorflow:From /Users/shawn/miniconda3/envs/test/lib/python3.6/site-packages/tensorflow/python/ops/math_ops.py:3066: to_int32 (from tensorflow.python.ops.math_ops) is deprecated and will be removed in a future version.\n",
      "Instructions for updating:\n",
      "Use tf.cast instead.\n",
      "Epoch 1/10\n",
      "1920/1920 [==============================] - 7s 3ms/sample - loss: 0.5708 - acc: 0.7219 - val_loss: 0.3238 - val_acc: 0.8771\n",
      "Epoch 2/10\n",
      "1920/1920 [==============================] - 5s 3ms/sample - loss: 0.2977 - acc: 0.8771 - val_loss: 0.3238 - val_acc: 0.8604\n",
      "Epoch 3/10\n",
      "1920/1920 [==============================] - 5s 3ms/sample - loss: 0.2541 - acc: 0.9005 - val_loss: 0.2266 - val_acc: 0.9042\n",
      "Epoch 4/10\n",
      "1920/1920 [==============================] - 5s 3ms/sample - loss: 0.2358 - acc: 0.9109 - val_loss: 0.1859 - val_acc: 0.9333\n",
      "Epoch 5/10\n",
      "1920/1920 [==============================] - 5s 3ms/sample - loss: 0.1601 - acc: 0.9453 - val_loss: 0.2265 - val_acc: 0.9250\n",
      "Epoch 6/10\n",
      "1920/1920 [==============================] - 5s 3ms/sample - loss: 0.1276 - acc: 0.9563 - val_loss: 0.1484 - val_acc: 0.9438\n",
      "Model trained.\n",
      "600/600 [==============================] - 0s 804us/sample - loss: 0.1737 - acc: 0.9333\n",
      "              precision    recall  f1-score   support\n",
      "\n",
      "           0       0.91      0.98      0.94       191\n",
      "           1       0.94      0.98      0.96       206\n",
      "           2       0.96      0.84      0.90       203\n",
      "\n",
      "   micro avg       0.93      0.93      0.93       600\n",
      "   macro avg       0.93      0.93      0.93       600\n",
      "weighted avg       0.93      0.93      0.93       600\n",
      "\n",
      "Train and test labels encoded into self.y_train and self.y_test\n",
      "Labels: [191 206 203] \n",
      " Original Predictions: [205 216 179] \n",
      " Attacked Predictions: [  0 245 355]\n",
      "              precision    recall  f1-score   support\n",
      "\n",
      "           0       0.00      0.00      0.00       205\n",
      "           1       0.88      1.00      0.93       216\n",
      "           2       0.48      0.95      0.64       179\n",
      "\n",
      "   micro avg       0.64      0.64      0.64       600\n",
      "   macro avg       0.45      0.65      0.52       600\n",
      "weighted avg       0.46      0.64      0.53       600\n",
      "\n"
     ]
    },
    {
     "name": "stderr",
     "output_type": "stream",
     "text": [
      "/Users/shawn/miniconda3/envs/test/lib/python3.6/site-packages/sklearn/metrics/classification.py:1143: UndefinedMetricWarning: Precision and F-score are ill-defined and being set to 0.0 in labels with no predicted samples.\n",
      "  'precision', 'predicted', average, warn_for)\n"
     ]
    }
   ],
   "source": [
    "# Background Neutrons (2x2) square of relatively high value\n",
    "classifier = ParticleClassifier()\\\n",
    "                .load_data('data/toy_data.csv')\\\n",
    "                .train_test_split()\\\n",
    "                .pre_proc_images(train=True, test=True, filters=False)\\\n",
    "                .one_hot_encode_labels(train=True, test=True)\\\n",
    "                .train_model()\\\n",
    "                .evaluate_model()\n",
    "value =  np.mean([classifier.images.max(), classifier.images.mean()])\n",
    "classifier = classifier.apply_attack(classifier.add_hot_area, size=(2,2), value=value)\\\n",
    "                       .pre_proc_images(attacked=True, filters=False)\\\n",
    "                       .one_hot_encode_labels(attacked=True)\\\n",
    "                       .evaluate_attack()"
   ]
  },
  {
   "cell_type": "code",
   "execution_count": null,
   "metadata": {},
   "outputs": [],
   "source": [
    "images = classfier.images\n",
    "value =  np.mean([classifier.images.max(), classifier.images.mean()])\n",
    "classifier.apply_attack(classifier.add_hot_area, size=(2,2), value=value)"
   ]
  },
  {
   "cell_type": "code",
   "execution_count": null,
   "metadata": {},
   "outputs": [],
   "source": [
    "np.mean([classifier.images.max(), classifier.images.mean()])"
   ]
  }
 ],
 "metadata": {
  "kernelspec": {
   "display_name": "Python 3",
   "language": "python",
   "name": "python3"
  }
 },
 "nbformat": 4,
 "nbformat_minor": 2
}
