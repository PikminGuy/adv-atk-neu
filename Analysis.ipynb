{
 "cells": [
  {
   "cell_type": "code",
   "execution_count": 4,
   "metadata": {},
   "outputs": [],
   "source": [
    "from model import ParticleClassifier\n",
    "import numpy as np\n",
    "import matplotlib.pyplot as plt\n",
    "import tensorflow as tf\n",
    "from sklearn.metrics import confusion_matrix"
   ]
  },
  {
   "cell_type": "code",
   "execution_count": 5,
   "metadata": {
    "scrolled": true
   },
   "outputs": [
    {
     "name": "stdout",
     "output_type": "stream",
     "text": [
      "Data loaded into self.images, self.labels\n",
      "Split into self.images_train, self.images_test, self.labels_train, self.labels_test\n",
      "Train and test labels encoded into self.y_train and self.y_test\n",
      "Train on 1920 samples, validate on 480 samples\n",
      "Epoch 1/10\n",
      "1920/1920 [==============================] - 7s 4ms/sample - loss: 0.6428 - acc: 0.7083 - val_loss: 0.3345 - val_acc: 0.8875\n",
      "Epoch 2/10\n",
      "1920/1920 [==============================] - 5s 3ms/sample - loss: 0.3443 - acc: 0.8661 - val_loss: 0.2738 - val_acc: 0.8917\n",
      "Epoch 3/10\n",
      "1920/1920 [==============================] - 5s 3ms/sample - loss: 0.2496 - acc: 0.9021 - val_loss: 0.2669 - val_acc: 0.9000\n",
      "Epoch 4/10\n",
      "1920/1920 [==============================] - 6s 3ms/sample - loss: 0.2314 - acc: 0.9094 - val_loss: 0.2589 - val_acc: 0.9083\n",
      "Epoch 5/10\n",
      "1920/1920 [==============================] - 5s 3ms/sample - loss: 0.2348 - acc: 0.9109 - val_loss: 0.3029 - val_acc: 0.8833\n",
      "Epoch 6/10\n",
      "1920/1920 [==============================] - 5s 3ms/sample - loss: 0.2155 - acc: 0.9109 - val_loss: 0.2189 - val_acc: 0.9250\n",
      "Epoch 7/10\n",
      "1920/1920 [==============================] - 5s 3ms/sample - loss: 0.1884 - acc: 0.9323 - val_loss: 0.1591 - val_acc: 0.9458\n",
      "Epoch 8/10\n",
      "1920/1920 [==============================] - 5s 3ms/sample - loss: 0.1555 - acc: 0.9406 - val_loss: 0.1476 - val_acc: 0.9500\n",
      "Epoch 9/10\n",
      "1920/1920 [==============================] - 8s 4ms/sample - loss: 0.1266 - acc: 0.9536 - val_loss: 0.1568 - val_acc: 0.9542\n",
      "Epoch 10/10\n",
      "1920/1920 [==============================] - 6s 3ms/sample - loss: 0.1076 - acc: 0.9646 - val_loss: 0.1219 - val_acc: 0.9646\n",
      "Model trained.\n",
      "600/600 [==============================] - 0s 684us/sample - loss: 0.0979 - acc: 0.9617\n",
      "              precision    recall  f1-score   support\n",
      "\n",
      "           0       0.97      0.96      0.96       215\n",
      "           1       0.99      0.97      0.98       204\n",
      "           2       0.92      0.96      0.94       181\n",
      "\n",
      "    accuracy                           0.96       600\n",
      "   macro avg       0.96      0.96      0.96       600\n",
      "weighted avg       0.96      0.96      0.96       600\n",
      "\n"
     ]
    }
   ],
   "source": [
    "classifier = ParticleClassifier()\\\n",
    "                .load_data('data/toy_data.csv')\\\n",
    "                .train_test_split()\\\n",
    "                .pre_proc_images(train=True, test=True)\\\n",
    "                .one_hot_encode_labels(train=True, test=True)\\\n",
    "                .train_model()\\\n",
    "                .evaluate_model()\\"
   ]
  },
  {
   "cell_type": "code",
   "execution_count": 6,
   "metadata": {},
   "outputs": [
    {
     "name": "stdout",
     "output_type": "stream",
     "text": [
      "Train and test labels encoded into self.y_train and self.y_test\n",
      "Labels: [215 204 181] \n",
      " Original Predictions: [212 200 188] \n",
      " Attacked Predictions: [  0 183 417]\n",
      "              precision    recall  f1-score   support\n",
      "\n",
      "           0       0.00      0.00      0.00       212\n",
      "           1       1.00      0.92      0.96       200\n",
      "           2       0.45      1.00      0.62       188\n",
      "\n",
      "    accuracy                           0.62       600\n",
      "   macro avg       0.48      0.64      0.53       600\n",
      "weighted avg       0.47      0.62      0.51       600\n",
      "\n"
     ]
    },
    {
     "data": {
      "image/png": "[encoded data removed]",
      "text/plain": [
       "<Figure size 432x288 with 1 Axes>"
      ]
     },
     "metadata": {
      "needs_background": "dark"
     },
     "output_type": "display_data"
    }
   ],
   "source": [
    "# Random neutron (2,2) attack\n",
    "value =  np.mean([classifier.images.max(), classifier.images.mean()])\n",
    "classifier = classifier.apply_attack(classifier.add_hot_area, size=(2,2), value=value)\\\n",
    "                       .pre_proc_images(attacked=True, filters=False)\\\n",
    "                       .one_hot_encode_labels(attacked=True)\\\n",
    "                       .evaluate_attack()"
   ]
  },
  {
   "cell_type": "code",
   "execution_count": null,
   "metadata": {},
   "outputs": [],
   "source": [
    "# Hot pixel attack\n",
    "classifier.hot_pixel_attack()\\\n",
    "          .pre_proc_images(attacked=True)\\\n",
    "          .one_hot_encode_labels(attacked=True)\\\n",
    "          .evaluate_attack()"
   ]
  },
  {
   "cell_type": "code",
   "execution_count": null,
   "metadata": {},
   "outputs": [],
   "source": [
    "pred = classifier.predictions\n",
    "pred1 = classifier.attacked_predictions\n",
    "print(pred)\n",
    "classifier.generate_confusion_matrix(pred, pred1)"
   ]
  },
  {
   "cell_type": "code",
   "execution_count": null,
   "metadata": {},
   "outputs": [],
   "source": [
    "tf.math.confusion_matrix(classifier.predictions, classifier.attacked_predictions)"
   ]
  },
  {
   "cell_type": "code",
   "execution_count": null,
   "metadata": {},
   "outputs": [],
   "source": [
    "cm = confusion_matrix(classifier.predictions, classifier.attacked_predictions).astype(np.float)\n",
    "print(cm)\n",
    "for i in range(len(cm)):\n",
    "    cm[i,:] = cm[i,:]/cm[i,:].sum()\n",
    "plt.rcParams.update({'axes.labelsize': 12,\n",
    "                     'axes.labelcolor': 'gray',\n",
    "                     'xtick.color': 'gray',\n",
    "                     'ytick.color': 'gray',\n",
    "                     'xtick.labelsize': 12,\n",
    "                     'ytick.labelsize': 12})\n",
    "fig, ax = plt.subplots()\n",
    "im = ax.imshow(cm, cmap='summer')\n",
    "ax.set_xlabel('Before Attack')\n",
    "ax.set_ylabel('After Attack')\n",
    "ax.set_xticks(np.arange(3))\n",
    "ax.set_yticks(np.arange(3))\n",
    "ax.set_xticklabels(['0', '1', '2'])\n",
    "ax.set_yticklabels(['0', '1', '2'])\n",
    "ax.set_xticks(np.arange(3)-0.5, minor=True)\n",
    "ax.set_yticks(np.arange(3)-0.5, minor=True)\n",
    "\n",
    "for i in range(len(cm)):\n",
    "    for j in range(len(cm[0])):\n",
    "        text = ax.text(j, i, '%.3f'%cm[i, j], ha='center', va='center', color='black', size=15)\n",
    "ax.grid(which=\"minor\", color=\"black\", linestyle='-', linewidth=4)\n",
    "fig.tight_layout()\n"
   ]
  },
  {
   "cell_type": "code",
   "execution_count": null,
   "metadata": {},
   "outputs": [],
   "source": [
    "classifier.print_image(18, [classifier.x_attacked, classifier.x_test)"
   ]
  },
  {
   "cell_type": "code",
   "execution_count": null,
   "metadata": {},
   "outputs": [],
   "source": [
    "classifier.model.predict(np.reshape(classifier.x_attacked[18], (1,50,50,1)))"
   ]
  },
  {
   "cell_type": "code",
   "execution_count": null,
   "metadata": {},
   "outputs": [],
   "source": [
    "    "
   ]
  },
  {
   "cell_type": "code",
   "execution_count": null,
   "metadata": {
    "scrolled": true
   },
   "outputs": [],
   "source": [
    "n = 1\n",
    "electron_images = classifier.images[classifier.labels == 1]\n",
    "muon_images = classifier.images[classifier.labels == 2]\n",
    "classifier.print_image(n, electrons, save='img/electron01.png')\n",
    "classifier.print_image(n, muons, save='img/muon01.png')"
   ]
  },
  {
   "cell_type": "code",
   "execution_count": null,
   "metadata": {},
   "outputs": [],
   "source": [
    "value =  np.mean([classifier.images.max(), classifier.images.mean()])\n",
    "electron_attacked = electron_images[n, :, :, 0].copy()\n",
    "#electron_attacked[11:12, 2:6] = value\n",
    "electron_attacked[11:12, 9:14] = value\n",
    "plt.imshow(electron_attacked)\n",
    "plt.imsave('img/electron01_neutron.png', electron_attacked)\n",
    "electron_attacked = np.reshape(electron_attacked, (1, 50, 50, 1))\n",
    "x = classifier.pre_proc(electron_attacked)\n",
    "print(np.argmax(classifier.model.predict(x)))"
   ]
  },
  {
   "cell_type": "code",
   "execution_count": null,
   "metadata": {},
   "outputs": [],
   "source": [
    "value =  np.mean([classifier.images.max(), classifier.images.mean()])\n",
    "muon_attacked = muon_images[n, :, :, 0].copy()\n",
    "#electron_attacked[11:12, 2:6] = value\n",
    "muon_attacked[18:21, 2:5] = value\n",
    "plt.imshow(muon_attacked)\n",
    "plt.imsave('img/muon01_neutron.png', muon_attacked)\n",
    "muon_attacked = np.reshape(muon_attacked, (1, 50, 50, 1))\n",
    "x = classifier.pre_proc(muon_attacked)\n",
    "print(np.argmax(classifier.model.predict(x)))"
   ]
  },
  {
   "cell_type": "code",
   "execution_count": null,
   "metadata": {},
   "outputs": [],
   "source": [
    "print(electron_images.shape)\n",
    "size = (1, 6)\n",
    "images = electron_images.copy()\n",
    "images = images.reshape(len(images), 2500)\n",
    "argmax = np.argmax(images, 1)\n",
    "pos = [list(np.unravel_index(i, (50,50))) for i in argmax]\n",
    "for xy in pos:\n",
    "    if 50-xy[0] < size[0]:\n",
    "        xy[0] -= size[0]\n",
    "    if 50-xy[1] < size[1]:\n",
    "        xy[1] -=size[1]\n",
    "pos = np.reshape(pos, (2, -1))"
   ]
  },
  {
   "cell_type": "code",
   "execution_count": null,
   "metadata": {},
   "outputs": [],
   "source": [
    "plt.imshow(electron_images[0,:,:,0])"
   ]
  },
  {
   "cell_type": "code",
   "execution_count": null,
   "metadata": {},
   "outputs": [],
   "source": []
  }
 ],
 "metadata": {
  "kernelspec": {
   "display_name": "Python 3",
   "language": "python",
   "name": "python3"
  },
  "language_info": {
   "codemirror_mode": {
    "name": "ipython",
    "version": 3
   },
   "file_extension": ".py",
   "mimetype": "text/x-python",
   "name": "python",
   "nbconvert_exporter": "python",
   "pygments_lexer": "ipython3",
   "version": "3.6.7"
  }
 },
 "nbformat": 4,
 "nbformat_minor": 2
}
