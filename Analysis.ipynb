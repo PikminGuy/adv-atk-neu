{
 "cells": [
  {
   "cell_type": "code",
   "execution_count": 1,
   "metadata": {},
   "outputs": [
    {
     "name": "stderr",
     "output_type": "stream",
     "text": [
      "/Users/shawn/miniconda3/envs/test/lib/python3.6/site-packages/tensorflow/python/framework/dtypes.py:526: FutureWarning: Passing (type, 1) or '1type' as a synonym of type is deprecated; in a future version of numpy, it will be understood as (type, (1,)) / '(1,)type'.\n",
      "  _np_qint8 = np.dtype([(\"qint8\", np.int8, 1)])\n",
      "/Users/shawn/miniconda3/envs/test/lib/python3.6/site-packages/tensorflow/python/framework/dtypes.py:527: FutureWarning: Passing (type, 1) or '1type' as a synonym of type is deprecated; in a future version of numpy, it will be understood as (type, (1,)) / '(1,)type'.\n",
      "  _np_quint8 = np.dtype([(\"quint8\", np.uint8, 1)])\n",
      "/Users/shawn/miniconda3/envs/test/lib/python3.6/site-packages/tensorflow/python/framework/dtypes.py:528: FutureWarning: Passing (type, 1) or '1type' as a synonym of type is deprecated; in a future version of numpy, it will be understood as (type, (1,)) / '(1,)type'.\n",
      "  _np_qint16 = np.dtype([(\"qint16\", np.int16, 1)])\n",
      "/Users/shawn/miniconda3/envs/test/lib/python3.6/site-packages/tensorflow/python/framework/dtypes.py:529: FutureWarning: Passing (type, 1) or '1type' as a synonym of type is deprecated; in a future version of numpy, it will be understood as (type, (1,)) / '(1,)type'.\n",
      "  _np_quint16 = np.dtype([(\"quint16\", np.uint16, 1)])\n",
      "/Users/shawn/miniconda3/envs/test/lib/python3.6/site-packages/tensorflow/python/framework/dtypes.py:530: FutureWarning: Passing (type, 1) or '1type' as a synonym of type is deprecated; in a future version of numpy, it will be understood as (type, (1,)) / '(1,)type'.\n",
      "  _np_qint32 = np.dtype([(\"qint32\", np.int32, 1)])\n",
      "/Users/shawn/miniconda3/envs/test/lib/python3.6/site-packages/tensorflow/python/framework/dtypes.py:535: FutureWarning: Passing (type, 1) or '1type' as a synonym of type is deprecated; in a future version of numpy, it will be understood as (type, (1,)) / '(1,)type'.\n",
      "  np_resource = np.dtype([(\"resource\", np.ubyte, 1)])\n",
      "Using TensorFlow backend.\n"
     ]
    }
   ],
   "source": [
    "from model import ParticleClassifier\n",
    "import numpy as np\n",
    "import matplotlib.pyplot as plt\n",
    "import tensorflow as tf\n",
    "from sklearn.metrics import confusion_matrix"
   ]
  },
  {
   "cell_type": "code",
   "execution_count": 2,
   "metadata": {},
   "outputs": [
    {
     "name": "stdout",
     "output_type": "stream",
     "text": [
      "WARNING:tensorflow:From /Users/shawn/miniconda3/envs/test/lib/python3.6/site-packages/tensorflow/python/ops/resource_variable_ops.py:435: colocate_with (from tensorflow.python.framework.ops) is deprecated and will be removed in a future version.\n",
      "Instructions for updating:\n",
      "Colocations handled automatically by placer.\n",
      "Data loaded into self.images, self.labels\n",
      "Split into self.images_train, self.images_test, self.labels_train, self.labels_test\n",
      "Train and test labels encoded into self.y_train and self.y_test\n",
      "Train on 1920 samples, validate on 480 samples\n",
      "WARNING:tensorflow:From /Users/shawn/miniconda3/envs/test/lib/python3.6/site-packages/tensorflow/python/ops/math_ops.py:3066: to_int32 (from tensorflow.python.ops.math_ops) is deprecated and will be removed in a future version.\n",
      "Instructions for updating:\n",
      "Use tf.cast instead.\n",
      "Epoch 1/10\n",
      "1920/1920 [==============================] - 7s 3ms/sample - loss: 0.6515 - acc: 0.6839 - val_loss: 0.4018 - val_acc: 0.8375\n",
      "Epoch 2/10\n",
      "1920/1920 [==============================] - 5s 3ms/sample - loss: 0.3090 - acc: 0.8786 - val_loss: 0.2653 - val_acc: 0.8875\n",
      "Epoch 3/10\n",
      "1920/1920 [==============================] - 5s 3ms/sample - loss: 0.2452 - acc: 0.9047 - val_loss: 0.2586 - val_acc: 0.9062\n",
      "Epoch 4/10\n",
      "1920/1920 [==============================] - 5s 3ms/sample - loss: 0.2303 - acc: 0.9141 - val_loss: 0.2134 - val_acc: 0.9021\n",
      "Epoch 5/10\n",
      "1920/1920 [==============================] - 5s 3ms/sample - loss: 0.1949 - acc: 0.9318 - val_loss: 0.3087 - val_acc: 0.8813\n",
      "Epoch 6/10\n",
      "1920/1920 [==============================] - 5s 3ms/sample - loss: 0.1841 - acc: 0.9385 - val_loss: 0.2394 - val_acc: 0.9042\n",
      "Model trained.\n",
      "600/600 [==============================] - 0s 717us/sample - loss: 0.2138 - acc: 0.9150\n",
      "              precision    recall  f1-score   support\n",
      "\n",
      "           0       0.99      0.84      0.91       188\n",
      "           1       0.93      0.99      0.96       214\n",
      "           2       0.85      0.91      0.88       198\n",
      "\n",
      "    accuracy                           0.92       600\n",
      "   macro avg       0.92      0.91      0.91       600\n",
      "weighted avg       0.92      0.92      0.91       600\n",
      "\n"
     ]
    }
   ],
   "source": [
    "classifier = ParticleClassifier()\\\n",
    "                .load_data('data/toy_data.csv')\\\n",
    "                .train_test_split()\\\n",
    "                .pre_proc_images(train=True, test=True)\\\n",
    "                .one_hot_encode_labels(train=True, test=True)\\\n",
    "                .train_model()\\\n",
    "                .evaluate_model()\\"
   ]
  },
  {
   "cell_type": "code",
   "execution_count": null,
   "metadata": {},
   "outputs": [],
   "source": [
    "# Hot pixel attack\n",
    "classifier.hot_pixel_attack()\\\n",
    "          .pre_proc_images(attacked=True)\\\n",
    "          .one_hot_encode_labels(attacked=True)\\\n",
    "          .evaluate_attack()"
   ]
  },
  {
   "cell_type": "code",
   "execution_count": 3,
   "metadata": {},
   "outputs": [
    {
     "name": "stdout",
     "output_type": "stream",
     "text": [
      "Train and test labels encoded into self.y_train and self.y_test\n",
      "Labels: [188 214 198] \n",
      " Original Predictions: [160 227 213] \n",
      " Attacked Predictions: [  0 284 316]\n",
      "              precision    recall  f1-score   support\n",
      "\n",
      "           0       0.00      0.00      0.00       160\n",
      "           1       0.77      0.96      0.86       227\n",
      "           2       0.60      0.89      0.71       213\n",
      "\n",
      "    accuracy                           0.68       600\n",
      "   macro avg       0.46      0.62      0.52       600\n",
      "weighted avg       0.50      0.68      0.58       600\n",
      "\n"
     ]
    },
    {
     "name": "stderr",
     "output_type": "stream",
     "text": [
      "/Users/shawn/miniconda3/envs/test/lib/python3.6/site-packages/sklearn/metrics/_classification.py:1272: UndefinedMetricWarning: Precision and F-score are ill-defined and being set to 0.0 in labels with no predicted samples. Use `zero_division` parameter to control this behavior.\n",
      "  _warn_prf(average, modifier, msg_start, len(result))\n"
     ]
    },
    {
     "data": {
      "image/png": "[encoded data removed]",
      "text/plain": [
       "<Figure size 432x288 with 1 Axes>"
      ]
     },
     "metadata": {
      "needs_background": "dark"
     },
     "output_type": "display_data"
    }
   ],
   "source": [
    "value =  np.mean([classifier.images.max(), classifier.images.mean()])\n",
    "classifier = classifier.apply_attack(classifier.add_hot_area, size=(2,2), value=value)\\\n",
    "                       .pre_proc_images(attacked=True, filters=False)\\\n",
    "                       .one_hot_encode_labels(attacked=True)\\\n",
    "                       .evaluate_attack()"
   ]
  },
  {
   "cell_type": "code",
   "execution_count": null,
   "metadata": {},
   "outputs": [],
   "source": [
    "pred = classifier.predictions\n",
    "pred1 = classifier.attacked_predictions\n",
    "print(pred)\n",
    "classifier.generate_confusion_matrix(pred, pred1)"
   ]
  },
  {
   "cell_type": "code",
   "execution_count": null,
   "metadata": {},
   "outputs": [],
   "source": [
    "tf.math.confusion_matrix(classifier.predictions, classifier.attacked_predictions)"
   ]
  },
  {
   "cell_type": "code",
   "execution_count": null,
   "metadata": {},
   "outputs": [],
   "source": [
    "cm = confusion_matrix(classifier.predictions, classifier.attacked_predictions)\n",
    "cm = cm / len(classifier.attacked_predictions)\n",
    "plt.rcParams.update({'axes.labelsize': 12,\n",
    "                     'axes.labelcolor': 'gray',\n",
    "                     'xtick.color': 'gray',\n",
    "                     'ytick.color': 'gray',\n",
    "                     'xtick.labelsize': 12,\n",
    "                     'ytick.labelsize': 12})\n",
    "fig, ax = plt.subplots()\n",
    "im = ax.imshow(cm, cmap='Wistia')\n",
    "ax.set_xlabel('Before Attack')\n",
    "ax.set_ylabel('After Attack')\n",
    "ax.set_xticks(np.arange(3))\n",
    "ax.set_yticks(np.arange(3))\n",
    "ax.set_xticklabels(['0', '1', '2'])\n",
    "ax.set_yticklabels(['0', '1', '2'])\n",
    "ax.set_xticks(np.arange(3)-0.5, minor=True)\n",
    "ax.set_yticks(np.arange(3)-0.5, minor=True)\n",
    "\n",
    "for i in range(len(cm)):\n",
    "    for j in range(len(cm[0])):\n",
    "        text = ax.text(j, i, '%.3f'%cm[i, j], ha='center', va='center', color='black', size=15)\n",
    "ax.grid(which=\"minor\", color=\"black\", linestyle='-', linewidth=4)\n",
    "fig.tight_layout()"
   ]
  },
  {
   "cell_type": "code",
   "execution_count": null,
   "metadata": {},
   "outputs": [],
   "source": [
    "\n",
    "len(classifier.attacked_predictions)"
   ]
  },
  {
   "cell_type": "code",
   "execution_count": null,
   "metadata": {},
   "outputs": [],
   "source": [
    "classifier.print_image(18, classifier.x_attacked)"
   ]
  },
  {
   "cell_type": "code",
   "execution_count": null,
   "metadata": {},
   "outputs": [],
   "source": [
    "classifier.print_image(18, classifier.x_test)"
   ]
  },
  {
   "cell_type": "code",
   "execution_count": null,
   "metadata": {},
   "outputs": [],
   "source": [
    "classifier.model.predict(np.reshape(classifier.x_attacked[18], (1,50,50,1)))"
   ]
  },
  {
   "cell_type": "code",
   "execution_count": null,
   "metadata": {},
   "outputs": [],
   "source": [
    "n = 1\n",
    "electrons = classifier.images[classifier.labels == 1]\n",
    "classifier.print_image(n, electrons, save='img/electron01.png')"
   ]
  },
  {
   "cell_type": "code",
   "execution_count": null,
   "metadata": {},
   "outputs": [],
   "source": [
    "value =  np.mean([classifier.images.max(), classifier.images.mean()])\n",
    "electron_attacked = electrons[n, :, :, 0].copy()\n",
    "electron_attacked[11:13, 2:6] = value\n",
    "electron_attacked[11:13, 9:16] = value\n",
    "plt.imshow(electron_attacked)\n",
    "plt.imsave('img/electron01_neutron.png', electron_attacked)"
   ]
  },
  {
   "cell_type": "code",
   "execution_count": null,
   "metadata": {},
   "outputs": [],
   "source": [
    "electron_attacked = np.reshape(electron_attacked, (1, 50, 50, 1))\n",
    "x = classifier.pre_proc(electron_attacked)\n",
    "np.argmax(classifier.model.predict(x))"
   ]
  },
  {
   "cell_type": "code",
   "execution_count": null,
   "metadata": {},
   "outputs": [],
   "source": [
    "classifier.print_image(2, classifier.images_attacked)"
   ]
  },
  {
   "cell_type": "code",
   "execution_count": null,
   "metadata": {},
   "outputs": [],
   "source": [
    "classifier.print_image(2, classifier.images_test)"
   ]
  },
  {
   "cell_type": "code",
   "execution_count": null,
   "metadata": {},
   "outputs": [],
   "source": []
  }
 ],
 "metadata": {
  "kernelspec": {
   "display_name": "Python 3",
   "language": "python",
   "name": "python3"
  },
  "language_info": {
   "codemirror_mode": {
    "name": "ipython",
    "version": 3
   },
   "file_extension": ".py",
   "mimetype": "text/x-python",
   "name": "python",
   "nbconvert_exporter": "python",
   "pygments_lexer": "ipython3",
   "version": "3.6.7"
  }
 },
 "nbformat": 4,
 "nbformat_minor": 2
}
