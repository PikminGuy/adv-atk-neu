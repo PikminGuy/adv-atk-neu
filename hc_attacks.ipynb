{
  "nbformat": 4,
  "nbformat_minor": 0,
  "metadata": {
    "colab": {
      "name": "hc_attacks.ipynb",
      "provenance": [],
      "collapsed_sections": []
    },
    "kernelspec": {
      "name": "python3",
      "display_name": "Python 3"
    }
  },
  "cells": [
    {
      "cell_type": "code",
      "metadata": {
        "id": "ILh7ZmczAj48",
        "colab_type": "code",
        "outputId": "91794876-e183-469b-96de-34ec31160662",
        "colab": {
          "base_uri": "https://localhost:8080/",
          "height": 34
        }
      },
      "source": [
        "from google.colab import drive\n",
        "drive.mount('/content/gdrive/')"
      ],
      "execution_count": 0,
      "outputs": [
        {
          "output_type": "stream",
          "text": [
            "Mounted at /content/gdrive/\n"
          ],
          "name": "stdout"
        }
      ]
    },
    {
      "cell_type": "code",
      "metadata": {
        "id": "bZS13GkH_b7q",
        "colab_type": "code",
        "colab": {
          "base_uri": "https://localhost:8080/",
          "height": 80
        },
        "outputId": "4c924a5f-299f-438d-95c6-ce8d0bd48330"
      },
      "source": [
        "import os\n",
        "import numpy as np\n",
        "import tensorflow as tf\n",
        "import keras.metrics\n",
        "import pandas as pd\n",
        "import matplotlib.pyplot as plt\n",
        "from sklearn import preprocessing\n",
        "from sklearn.model_selection import train_test_split\n",
        "from sklearn.metrics import classification_report\n",
        "from keras.utils import to_categorical\n",
        "from tensorflow.keras.optimizers import RMSprop\n",
        "from tensorflow.keras.callbacks import EarlyStopping\n",
        "from scipy import ndimage"
      ],
      "execution_count": 2,
      "outputs": [
        {
          "output_type": "display_data",
          "data": {
            "text/html": [
              "<p style=\"color: red;\">\n",
              "The default version of TensorFlow in Colab will soon switch to TensorFlow 2.x.<br>\n",
              "We recommend you <a href=\"https://www.tensorflow.org/guide/migrate\" target=\"_blank\">upgrade</a> now \n",
              "or ensure your notebook will continue to use TensorFlow 1.x via the <code>%tensorflow_version 1.x</code> magic:\n",
              "<a href=\"https://colab.research.google.com/notebooks/tensorflow_version.ipynb\" target=\"_blank\">more info</a>.</p>\n"
            ],
            "text/plain": [
              "<IPython.core.display.HTML object>"
            ]
          },
          "metadata": {
            "tags": []
          }
        },
        {
          "output_type": "stream",
          "text": [
            "Using TensorFlow backend.\n"
          ],
          "name": "stderr"
        }
      ]
    },
    {
      "cell_type": "code",
      "metadata": {
        "id": "bwaOhibaOF9a",
        "colab_type": "code",
        "colab": {}
      },
      "source": [
        "class ParticleClassifier():\n",
        "    def __init__(self):\n",
        "        '''x and y is after preprocessing'''\n",
        "        self.path = None\n",
        "        self.images = None\n",
        "        self.labels = None\n",
        "        self.images_train = None\n",
        "        self.images_test = None\n",
        "        self.labels_train = None\n",
        "        self.labels_test = None\n",
        "        self.x = None\n",
        "        self.y = None\n",
        "        self.x_train = None\n",
        "        self.x_test = None\n",
        "        self.y_train = None\n",
        "        self.y_test = None\n",
        "        self.images_attacked = None\n",
        "        self.labels_attacked = None\n",
        "        self.x_attacked = None\n",
        "        self.y_attacked = None\n",
        "        self.predictions = None\n",
        "        self.attacked_predictions = None\n",
        "        self.images_set = [self.images_train, self.images_test, self.images_attacked]\n",
        "        self.x_set = [self.x_train, self.x_test, self.x_attacked]\n",
        "        self.labels_set = [self.labels_train, self.labels_test]\n",
        "        \n",
        "        self.model = tf.keras.models.Sequential([\n",
        "        # Note the input shape is the desired size of the image 50x50 with 1 bytes color\n",
        "        tf.keras.layers.Conv2D(64, (3,3), activation='relu', input_shape=(50, 50, 1)),\n",
        "        tf.keras.layers.MaxPooling2D(2, 2),\n",
        "        tf.keras.layers.Conv2D(32, (3,3), activation='relu'),\n",
        "        tf.keras.layers.MaxPooling2D(2, 2),\n",
        "        tf.keras.layers.Conv2D(16, (3,3), activation='relu'),\n",
        "        tf.keras.layers.MaxPooling2D(2, 2),\n",
        "        tf.keras.layers.Flatten(),\n",
        "        # 512 neuron hidden layer\n",
        "        tf.keras.layers.Dense(512, activation='relu'),\n",
        "        tf.keras.layers.Dense(128, activation='relu'),\n",
        "        tf.keras.layers.Dense(32, activation='relu'),\n",
        "        tf.keras.layers.Dense(3, activation='softmax')\n",
        "        ])\n",
        "        \n",
        "        self.messages = {'load_data': 'Data loaded into self.images, self.labels',\n",
        "                         'train_test_split': 'Split into self.images_train, self.images_test, self.labels_train, self.labels_test',\n",
        "                         'pre_proc_train': 'Train images pre-processed into self.x_train',\n",
        "                         'pre_proc_test': 'Test images pre-processed into self.x_test',\n",
        "                         'one_hot_encode': 'Train and test labels encoded into self.y_train and self.y_test',\n",
        "                         'train_model': 'Model trained.',\n",
        "                         'gen_hot_channel_data': 'Hot channel data generated in self.images_attacked, self.labels_attacked, self.x_attacked, self.y_attacked'}\n",
        "            \n",
        "        \n",
        "    def __call__(self):\n",
        "        return\n",
        "        \n",
        "    def load_data(self, path='toy_data.csv'):\n",
        "        '''Loads data from path into self.labels and self.images'''\n",
        "        self.path = path\n",
        "        data = np.genfromtxt(path, delimiter=',')\n",
        "        self.labels = data[:,0].astype(int)\n",
        "        self.images = data[:, 1:].reshape((len(data),50,50,1))\n",
        "        print(self.messages['load_data'])\n",
        "        return self\n",
        "    \n",
        "    def train_test_split(self, images=None, labels=None, test_size=0.2):\n",
        "        '''Wrapper around train_test_split'''\n",
        "        if images is None:\n",
        "            images = self.images\n",
        "        if labels is None:\n",
        "            labels = self.labels\n",
        "        self.images_train, self.images_test, self.labels_train, self.labels_test = \\\n",
        "        train_test_split(images, labels, test_size=test_size)\n",
        "        print(self.messages['train_test_split'])\n",
        "        return self\n",
        "        \n",
        "    def pre_proc_filter(self, images, size=2, sigma=2):\n",
        "        '''Applies Median filter and Gaussian filter to remove noise and hot\n",
        "        channels. Size refers to size of Median filter, sigma refers to Gaussian\n",
        "        filter parameter - larger for more blurring.\n",
        "        Parameters\n",
        "        ----------\n",
        "        size: int, optional \n",
        "        sigma: int, optional\n",
        "        '''\n",
        "        orig_shape = images.shape\n",
        "        images_new = []\n",
        "        for image in images.reshape((images.shape[0:-1])):        \n",
        "            image_new = ndimage.median_filter(image, size=size, mode='wrap')\n",
        "            image_new = ndimage.gaussian_filter(image_new, sigma=sigma)\n",
        "            images_new.append(image_new)\n",
        "        return np.array(images_new).reshape(orig_shape)\n",
        "    \n",
        "    def pre_proc_rescale(self, images, negative=False):\n",
        "        '''Subtract the mean, scales all image to between -1 and 1, and remove\n",
        "        all negative values (if False).\n",
        "        '''\n",
        "        orig_shape = images.shape\n",
        "        images_reshaped = images.reshape((orig_shape[0], -1))\n",
        "        images_scaled = np.subtract(images_reshaped, np.median(images_reshaped, axis=1, keepdims=True))\n",
        "        if not negative:\n",
        "            images_scaled[images_scaled < 0] = 0.\n",
        "        images_scaled = np.divide(images_scaled, np.max(images_scaled, axis=1, keepdims=True))\n",
        "        images_scaled = images_scaled.reshape(orig_shape)\n",
        "        return images_scaled\n",
        "    \n",
        "    def pre_proc(self, images, size=2, sigma=2, filters=False, rescale=True):\n",
        "        '''Helper function that removes applies pre-processing to givem images.\n",
        "        '''\n",
        "        x = images.copy()\n",
        "        if filter:\n",
        "            x = self.pre_proc_filter(x, size=size, sigma=sigma)\n",
        "        if rescale:\n",
        "            x = self.pre_proc_rescale(x)\n",
        "        return x\n",
        "    \n",
        "    def pre_proc_images(self, filters=False, rescale=True, \n",
        "                        train=False, test=False, attacked=False, size=2, sigma=2):\n",
        "        '''Pre-processes any of the 3 image sets (train, test, attacked).\n",
        "        Filters indicate if Median and Gaussian filters should be applied. \n",
        "        Rescale indicate if images should be rescaled.'''\n",
        "        if train:\n",
        "            self.x_train = self.pre_proc(self.images_train, size=size, \n",
        "                                         sigma=sigma, filters=filters, \n",
        "                                         rescale=rescale)\n",
        "        if test:\n",
        "            self.x_test = self.pre_proc(self.images_test, size=size, sigma=sigma,\n",
        "                                        filters=filters, rescale=rescale)\n",
        "        if attacked:\n",
        "            self.x_attacked = self.pre_proc(self.images_attacked, size=size,\n",
        "                                            sigma=sigma, filters=filters, \n",
        "                                            rescale=rescale)\n",
        "        return self\n",
        "    \n",
        "    def one_hot_encode_labels(self, train=False, test=False, attacked=False):\n",
        "        '''One hot encodes any of the 3 label sets (train, test, attacked).'''\n",
        "        if train:\n",
        "            self.y_train = to_categorical(self.labels_train)\n",
        "        if test:\n",
        "            self.y_test = to_categorical(self.labels_test)\n",
        "        if attacked:\n",
        "            self.y_attacked = to_categorical(self.labels_attacked)\n",
        "        print(self.messages['one_hot_encode'])\n",
        "        return self\n",
        "\n",
        "        \n",
        "    def train_model(self, x=None, y=None, val_split=0.2, epochs=10, verbose=1,\n",
        "                    callback=None, min_delta=0.2, patience=5):\n",
        "        '''Trains CNN model.'''\n",
        "        if x is None:\n",
        "            x = self.x_train\n",
        "        if y is None:\n",
        "            y = self.y_train\n",
        "        if callback is None:\n",
        "            self.callback = EarlyStopping(monitor='val_acc',\n",
        "                                      min_delta=min_delta,\n",
        "                                      patience=patience)\n",
        "            \n",
        "        self.model.compile(loss='categorical_crossentropy',\n",
        "                          optimizer='adam',\n",
        "                          metrics=['acc'])\n",
        "        \n",
        "        self.model.fit(x,\n",
        "                      y,  \n",
        "                      epochs=epochs,\n",
        "                      verbose=verbose,\n",
        "                      validation_split=val_split,\n",
        "                      callbacks=[self.callback])\n",
        "        print(self.messages['train_model'])\n",
        "        return self\n",
        "    \n",
        "    def evaluate_model(self, x_test=None, y_test=None):\n",
        "        '''Evaluate model against test set'''\n",
        "        if x_test is None:\n",
        "            x_test = self.x_test\n",
        "        if y_test is None:\n",
        "            y_test = self.y_test\n",
        "        self.model.evaluate(x_test, y_test)\n",
        "        y_pred = self.model.predict(x_test)\n",
        "        print(classification_report(np.argmax(y_test, axis=1), np.argmax(y_pred, axis=1)))\n",
        "        return self\n",
        "    \n",
        "    def gen_hot_channel_data(self, images=None, labels=None, value=None):\n",
        "        '''Adds a hot channel with double the max value at a random location \n",
        "        for each image.'''\n",
        "        change_self = False\n",
        "        if images is None:\n",
        "            images = self.images_test\n",
        "            change_self = True\n",
        "        if labels is None:\n",
        "            labels = self.labels_test\n",
        "        if value is None:\n",
        "            value = np.max(images) * 2\n",
        "        loc = np.random.randint(0, images.shape[2], size=(images.shape[0], 2))\n",
        "        images_edited = images.copy()\n",
        "        images_edited[np.arange(images.shape[0]),loc[:,0], loc[:,1]] = value\n",
        "        self.images_attacked = images_edited\n",
        "        self.x_attacked = self.pre_proc(self.images_attacked)\n",
        "        self.labels_attacked = labels\n",
        "        self.y_attacked = self.one_hot_encode_labels(labels)\n",
        "        print(self.messages['gen_hot_channel_data'])\n",
        "        return self\n",
        "    \n",
        "    def evaluate_attack(self, x=None, x_attacked=None, labels=None):\n",
        "        '''Evaluates the \n",
        "        against predictions without attack. Test data is used by default'''\n",
        "        if x is None:\n",
        "            x = self.x_test\n",
        "            x_attacked = self.x_attacked\n",
        "            labels_attacked = self.labels_attacked\n",
        "        original_pred = np.argmax(self.model.predict(x), axis=1).astype(int)\n",
        "        attacked_pred = np.argmax(self.model.predict(x_attacked), axis=1).astype(int)\n",
        "        self.predictions = original_pred\n",
        "        self.attacked_predictions = attacked_pred\n",
        "        print('Labels: {} \\n Original Predictions: {} \\n Attacked Predictions: {}'\\\n",
        "              .format(np.bincount(labels_attacked), np.bincount(original_pred), np.bincount(attacked_pred)))\n",
        "        print(classification_report(original_pred, attacked_pred)) \n",
        "        return self\n",
        "    \n",
        "    def apply_attack(self, attack, images=None, labels=None, **kwargs):\n",
        "        '''Update images_attacked and labels_attacked after applying attack\n",
        "        on an image set (test by default). '''\n",
        "        if images is None:\n",
        "            images = self.images_test\n",
        "        if labels is None:\n",
        "            labels = self.labels_test\n",
        "        images_edited = images.copy()\n",
        "        images_edited = attack(images, **kwargs)\n",
        "        \n",
        "        self.images_attacked = images_edited\n",
        "        self.labels_attacked = labels\n",
        "        return self\n",
        "        \n",
        "    def add_hot_area(self, images, size, value=None, pos=None):\n",
        "        '''Adds a hot channel at a given location pos=(x, y) with \n",
        "        size (i, j) for a given image.\n",
        "        :param images (n, x, y, 1)\n",
        "        :param pos (x, y), x and y are arrays of length n\n",
        "        :param size (i, j)\n",
        "        :param value to be replaced'''\n",
        "        if pos is None:\n",
        "            x = np.random.randint(0, images.shape[1]-size[0],\n",
        "                                  size=(images.shape[0],1))\n",
        "            y = np.random.randint(0, images.shape[2]-size[1], \n",
        "                                  size=(images.shape[0], 1))\n",
        "            pos = np.concatenate([x, y], axis=1)\n",
        "        if value is None:\n",
        "            value = images.max()\n",
        "        for i in range(size[0]):\n",
        "            for j in range(size[1]):\n",
        "                images[np.arange(images.shape[0]), pos[:,0]+i, pos[:,1]+j, 0] = value\n",
        "        return images\n",
        "    \n",
        "    def hot_pixel_attack(self, images=None, labels=None, value=None):\n",
        "        if images is None:\n",
        "            images = self.images_test\n",
        "        if labels is None:\n",
        "            labels = self.labels_test\n",
        "        if value is None:\n",
        "            value = np.max(images) * 2\n",
        "            \n",
        "        loc = np.random.randint(0, images.shape[2], size=(images.shape[0], 2))\n",
        "        self.apply_attack(self.add_hot_area, images, labels, \n",
        "                          size=[1,1], value=value, pos=loc)\n",
        "        return self\n",
        "\n",
        "    def add_gaussian_noise(self, images, mu, sigma):\n",
        "        '''Adds Gaussian noise for a given image, with mean = mu and standard\n",
        "        deviation = sigma.\n",
        "        :param images (n, x, y, 1)\n",
        "        :param mu float\n",
        "        :param sigma float'''\n",
        "        gauss = np.random.normal(mu, sigma, size=images.shape)\n",
        "        images = images + gauss\n",
        "        return images\n",
        "\n",
        "    def add_sp_noise(self, images, ratio, prob):\n",
        "        '''Adds salt & pepper noise for a given image, with a ratio between salt\n",
        "        and pepper = ratio, and probability of noise = prob\n",
        "        :param images (n, x, y, 1)\n",
        "        :param ratio float\n",
        "        :param prob float'''\n",
        "        salt = np.ceil(prob * ratio * images[0].size)\n",
        "        pepper = np.ceil(prob * (1-ratio) * images[0].size)\n",
        "\n",
        "        for i in range(int(salt)):\n",
        "          loc = np.random.randint(0, images.shape[2], size=(images.shape[0], 2))\n",
        "          images[np.arange(images.shape[0]),loc[:,0], loc[:,1]] = images.max()\n",
        "          \n",
        "        for j in range(int(pepper)):\n",
        "          loc = np.random.randint(0, images.shape[2], size=(images.shape[0], 2))\n",
        "          images[np.arange(images.shape[0]),loc[:,0], loc[:,1]] = 0\n",
        "        return images\n",
        "        \n",
        "    def print_image(self, index, image_set):\n",
        "        '''Shows the nth image of an 4d image set of n images: (n, height, length, channel)'''\n",
        "        plt.imshow(image_set[index,:,:,0])\n",
        "        plt.show()"
      ],
      "execution_count": 0,
      "outputs": []
    },
    {
      "cell_type": "code",
      "metadata": {
        "id": "u2HkvflTDOOk",
        "colab_type": "code",
        "outputId": "fb334808-eec1-402b-e468-0a8186ded64b",
        "colab": {
          "base_uri": "https://localhost:8080/",
          "height": 513
        }
      },
      "source": [
        "classifier = ParticleClassifier()\\\n",
        "                .load_data('toy_data.csv')\\\n",
        "                .train_test_split()\\\n",
        "                .pre_proc_images(train=True, test=True)\\\n",
        "                .one_hot_encode_labels(train=True, test=True)\\\n",
        "                .train_model()\\\n",
        "                .evaluate_model()\\"
      ],
      "execution_count": 21,
      "outputs": [
        {
          "output_type": "stream",
          "text": [
            "Data loaded into self.images, self.labels\n",
            "Split into self.images_train, self.images_test, self.labels_train, self.labels_test\n",
            "Train and test labels encoded into self.y_train and self.y_test\n",
            "Train on 1920 samples, validate on 480 samples\n",
            "Epoch 1/10\n",
            "1920/1920 [==============================] - 9s 4ms/sample - loss: 0.5878 - acc: 0.7120 - val_loss: 0.2670 - val_acc: 0.9146\n",
            "Epoch 2/10\n",
            "1920/1920 [==============================] - 8s 4ms/sample - loss: 0.1988 - acc: 0.9276 - val_loss: 0.2376 - val_acc: 0.9333\n",
            "Epoch 3/10\n",
            "1920/1920 [==============================] - 9s 4ms/sample - loss: 0.1768 - acc: 0.9333 - val_loss: 0.1903 - val_acc: 0.9333\n",
            "Epoch 4/10\n",
            "1920/1920 [==============================] - 9s 5ms/sample - loss: 0.1270 - acc: 0.9552 - val_loss: 0.1910 - val_acc: 0.9396\n",
            "Epoch 5/10\n",
            "1920/1920 [==============================] - 8s 4ms/sample - loss: 0.1507 - acc: 0.9474 - val_loss: 0.2559 - val_acc: 0.9000\n",
            "Epoch 6/10\n",
            "1920/1920 [==============================] - 8s 4ms/sample - loss: 0.1179 - acc: 0.9599 - val_loss: 0.2029 - val_acc: 0.9312\n",
            "Model trained.\n",
            "600/600 [==============================] - 1s 1ms/sample - loss: 0.1789 - acc: 0.9367\n",
            "              precision    recall  f1-score   support\n",
            "\n",
            "           0       0.99      0.96      0.97       202\n",
            "           1       0.87      0.99      0.93       189\n",
            "           2       0.95      0.87      0.91       209\n",
            "\n",
            "    accuracy                           0.94       600\n",
            "   macro avg       0.94      0.94      0.94       600\n",
            "weighted avg       0.94      0.94      0.94       600\n",
            "\n"
          ],
          "name": "stdout"
        }
      ]
    },
    {
      "cell_type": "markdown",
      "metadata": {
        "id": "kHJZ68LZBp53",
        "colab_type": "text"
      },
      "source": [
        "Gaussian noise"
      ]
    },
    {
      "cell_type": "code",
      "metadata": {
        "id": "jim57AcyUlPx",
        "colab_type": "code",
        "colab": {
          "base_uri": "https://localhost:8080/",
          "height": 1000
        },
        "outputId": "01df21c0-f278-417d-9bea-ccf375a84446"
      },
      "source": [
        "images = classifier.images\n",
        "plt.imshow(images[0,:,:,0])\n",
        "plt.show()\n",
        "for i in [1, 10, 100]:\n",
        "    gauss = np.random.normal(0, i, size=images.shape)\n",
        "    noisy = images + gauss\n",
        "    plt.imshow(noisy[0,:,:,0])\n",
        "    plt.show()"
      ],
      "execution_count": 17,
      "outputs": [
        {
          "output_type": "display_data",
          "data": {
            "image/png": "[encoded data removed]",
            "text/plain": [
              "<Figure size 432x288 with 1 Axes>"
            ]
          },
          "metadata": {
            "tags": []
          }
        },
        {
          "output_type": "display_data",
          "data": {
            "image/png": "[encoded data removed]",
            "text/plain": [
              "<Figure size 432x288 with 1 Axes>"
            ]
          },
          "metadata": {
            "tags": []
          }
        },
        {
          "output_type": "display_data",
          "data": {
            "image/png": "[encoded data removed]",
            "text/plain": [
              "<Figure size 432x288 with 1 Axes>"
            ]
          },
          "metadata": {
            "tags": []
          }
        },
        {
          "output_type": "display_data",
          "data": {
            "image/png": "[encoded data removed]",
            "text/plain": [
              "<Figure size 432x288 with 1 Axes>"
            ]
          },
          "metadata": {
            "tags": []
          }
        }
      ]
    },
    {
      "cell_type": "code",
      "metadata": {
        "id": "AZWV47PnXl6T",
        "colab_type": "code",
        "colab": {
          "base_uri": "https://localhost:8080/",
          "height": 751
        },
        "outputId": "d07f083e-9f18-4f2d-f401-6cf9ceb6b2ef"
      },
      "source": [
        "mu = 0\n",
        "sigma = 1\n",
        "classifier = ParticleClassifier()\\\n",
        "                .load_data('toy_data.csv')\\\n",
        "                .train_test_split()\\\n",
        "                .pre_proc_images(train=True, test=True, filters=False)\\\n",
        "                .one_hot_encode_labels(train=True, test=True)\\\n",
        "                .train_model()\\\n",
        "                .evaluate_model()\\\n",
        "                .apply_attack(classifier.add_gaussian_noise, mu=mu, sigma=sigma)\\\n",
        "               .pre_proc_images(attacked=True, filters=False)\\\n",
        "               .one_hot_encode_labels(attacked=True)\\\n",
        "               .evaluate_attack()"
      ],
      "execution_count": 82,
      "outputs": [
        {
          "output_type": "stream",
          "text": [
            "Data loaded into self.images, self.labels\n",
            "Split into self.images_train, self.images_test, self.labels_train, self.labels_test\n",
            "Train and test labels encoded into self.y_train and self.y_test\n",
            "Train on 1920 samples, validate on 480 samples\n",
            "Epoch 1/10\n",
            "1920/1920 [==============================] - 9s 5ms/sample - loss: 0.5389 - acc: 0.7458 - val_loss: 0.2623 - val_acc: 0.8708\n",
            "Epoch 2/10\n",
            "1920/1920 [==============================] - 8s 4ms/sample - loss: 0.2379 - acc: 0.9068 - val_loss: 0.2317 - val_acc: 0.9083\n",
            "Epoch 3/10\n",
            "1920/1920 [==============================] - 8s 4ms/sample - loss: 0.1795 - acc: 0.9396 - val_loss: 0.1724 - val_acc: 0.9292\n",
            "Epoch 4/10\n",
            "1920/1920 [==============================] - 8s 4ms/sample - loss: 0.1639 - acc: 0.9391 - val_loss: 0.1525 - val_acc: 0.9354\n",
            "Epoch 5/10\n",
            "1920/1920 [==============================] - 8s 4ms/sample - loss: 0.2052 - acc: 0.9208 - val_loss: 0.1786 - val_acc: 0.9208\n",
            "Epoch 6/10\n",
            "1920/1920 [==============================] - 8s 4ms/sample - loss: 0.1431 - acc: 0.9479 - val_loss: 0.1446 - val_acc: 0.9375\n",
            "Model trained.\n",
            "600/600 [==============================] - 1s 1ms/sample - loss: 0.1373 - acc: 0.9550\n",
            "              precision    recall  f1-score   support\n",
            "\n",
            "           0       0.97      1.00      0.99       193\n",
            "           1       0.92      0.98      0.95       204\n",
            "           2       0.97      0.89      0.93       203\n",
            "\n",
            "    accuracy                           0.95       600\n",
            "   macro avg       0.96      0.96      0.96       600\n",
            "weighted avg       0.96      0.95      0.95       600\n",
            "\n",
            "Train and test labels encoded into self.y_train and self.y_test\n",
            "Labels: [193 204 203] \n",
            " Original Predictions: [198 216 186] \n",
            " Attacked Predictions: [197 210 193]\n",
            "              precision    recall  f1-score   support\n",
            "\n",
            "           0       1.00      0.99      1.00       198\n",
            "           1       1.00      0.97      0.99       216\n",
            "           2       0.96      1.00      0.98       186\n",
            "\n",
            "    accuracy                           0.99       600\n",
            "   macro avg       0.99      0.99      0.99       600\n",
            "weighted avg       0.99      0.99      0.99       600\n",
            "\n"
          ],
          "name": "stdout"
        }
      ]
    },
    {
      "cell_type": "code",
      "metadata": {
        "id": "aW6FdqY9e1Dx",
        "colab_type": "code",
        "colab": {
          "base_uri": "https://localhost:8080/",
          "height": 751
        },
        "outputId": "c0b81054-772e-450f-84a0-365a90dca6ba"
      },
      "source": [
        "mu = 0\n",
        "sigma = 10\n",
        "classifier = ParticleClassifier()\\\n",
        "                .load_data('toy_data.csv')\\\n",
        "                .train_test_split()\\\n",
        "                .pre_proc_images(train=True, test=True, filters=False)\\\n",
        "                .one_hot_encode_labels(train=True, test=True)\\\n",
        "                .train_model()\\\n",
        "                .evaluate_model()\\\n",
        "                .apply_attack(classifier.add_gaussian_noise, mu=mu, sigma=sigma)\\\n",
        "               .pre_proc_images(attacked=True, filters=False)\\\n",
        "               .one_hot_encode_labels(attacked=True)\\\n",
        "               .evaluate_attack()"
      ],
      "execution_count": 83,
      "outputs": [
        {
          "output_type": "stream",
          "text": [
            "Data loaded into self.images, self.labels\n",
            "Split into self.images_train, self.images_test, self.labels_train, self.labels_test\n",
            "Train and test labels encoded into self.y_train and self.y_test\n",
            "Train on 1920 samples, validate on 480 samples\n",
            "Epoch 1/10\n",
            "1920/1920 [==============================] - 9s 5ms/sample - loss: 0.5585 - acc: 0.7474 - val_loss: 0.2448 - val_acc: 0.9104\n",
            "Epoch 2/10\n",
            "1920/1920 [==============================] - 8s 4ms/sample - loss: 0.1988 - acc: 0.9234 - val_loss: 0.1523 - val_acc: 0.9479\n",
            "Epoch 3/10\n",
            "1920/1920 [==============================] - 8s 4ms/sample - loss: 0.1698 - acc: 0.9438 - val_loss: 0.1601 - val_acc: 0.9375\n",
            "Epoch 4/10\n",
            "1920/1920 [==============================] - 8s 4ms/sample - loss: 0.1553 - acc: 0.9500 - val_loss: 0.1231 - val_acc: 0.9604\n",
            "Epoch 5/10\n",
            "1920/1920 [==============================] - 8s 4ms/sample - loss: 0.1451 - acc: 0.9484 - val_loss: 0.1222 - val_acc: 0.9667\n",
            "Epoch 6/10\n",
            "1920/1920 [==============================] - 8s 4ms/sample - loss: 0.1175 - acc: 0.9594 - val_loss: 0.1035 - val_acc: 0.9604\n",
            "Model trained.\n",
            "600/600 [==============================] - 1s 1ms/sample - loss: 0.1256 - acc: 0.9533\n",
            "              precision    recall  f1-score   support\n",
            "\n",
            "           0       0.96      0.99      0.98       192\n",
            "           1       0.93      0.98      0.96       217\n",
            "           2       0.97      0.88      0.92       191\n",
            "\n",
            "    accuracy                           0.95       600\n",
            "   macro avg       0.95      0.95      0.95       600\n",
            "weighted avg       0.95      0.95      0.95       600\n",
            "\n",
            "Train and test labels encoded into self.y_train and self.y_test\n",
            "Labels: [192 217 191] \n",
            " Original Predictions: [197 228 175] \n",
            " Attacked Predictions: [390   4 206]\n",
            "              precision    recall  f1-score   support\n",
            "\n",
            "           0       0.50      0.99      0.66       197\n",
            "           1       1.00      0.02      0.03       228\n",
            "           2       0.11      0.13      0.12       175\n",
            "\n",
            "    accuracy                           0.37       600\n",
            "   macro avg       0.54      0.38      0.27       600\n",
            "weighted avg       0.58      0.37      0.27       600\n",
            "\n"
          ],
          "name": "stdout"
        }
      ]
    },
    {
      "cell_type": "code",
      "metadata": {
        "id": "8_QSA9bZe8vq",
        "colab_type": "code",
        "colab": {
          "base_uri": "https://localhost:8080/",
          "height": 785
        },
        "outputId": "6ef54961-89e8-48e8-aaf6-b4820e4ec6cf"
      },
      "source": [
        "mu = 0\n",
        "sigma = 100\n",
        "classifier = ParticleClassifier()\\\n",
        "                .load_data('toy_data.csv')\\\n",
        "                .train_test_split()\\\n",
        "                .pre_proc_images(train=True, test=True, filters=False)\\\n",
        "                .one_hot_encode_labels(train=True, test=True)\\\n",
        "                .train_model()\\\n",
        "                .evaluate_model()\\\n",
        "                .apply_attack(classifier.add_gaussian_noise, mu=mu, sigma=sigma)\\\n",
        "               .pre_proc_images(attacked=True, filters=False)\\\n",
        "               .one_hot_encode_labels(attacked=True)\\\n",
        "               .evaluate_attack()"
      ],
      "execution_count": 84,
      "outputs": [
        {
          "output_type": "stream",
          "text": [
            "Data loaded into self.images, self.labels\n",
            "Split into self.images_train, self.images_test, self.labels_train, self.labels_test\n",
            "Train and test labels encoded into self.y_train and self.y_test\n",
            "Train on 1920 samples, validate on 480 samples\n",
            "Epoch 1/10\n",
            "1920/1920 [==============================] - 9s 4ms/sample - loss: 0.5166 - acc: 0.7750 - val_loss: 0.2222 - val_acc: 0.9104\n",
            "Epoch 2/10\n",
            "1920/1920 [==============================] - 8s 4ms/sample - loss: 0.1861 - acc: 0.9370 - val_loss: 0.1631 - val_acc: 0.9375\n",
            "Epoch 3/10\n",
            "1920/1920 [==============================] - 8s 4ms/sample - loss: 0.1706 - acc: 0.9417 - val_loss: 0.1408 - val_acc: 0.9375\n",
            "Epoch 4/10\n",
            "1920/1920 [==============================] - 8s 4ms/sample - loss: 0.1579 - acc: 0.9406 - val_loss: 0.1542 - val_acc: 0.9458\n",
            "Epoch 5/10\n",
            "1920/1920 [==============================] - 8s 4ms/sample - loss: 0.1225 - acc: 0.9568 - val_loss: 0.1189 - val_acc: 0.9500\n",
            "Epoch 6/10\n",
            "1920/1920 [==============================] - 8s 4ms/sample - loss: 0.1160 - acc: 0.9615 - val_loss: 0.1249 - val_acc: 0.9458\n",
            "Model trained.\n",
            "600/600 [==============================] - 1s 1ms/sample - loss: 0.1350 - acc: 0.9617\n",
            "              precision    recall  f1-score   support\n",
            "\n",
            "           0       0.98      0.98      0.98       193\n",
            "           1       0.96      0.97      0.96       206\n",
            "           2       0.95      0.94      0.94       201\n",
            "\n",
            "    accuracy                           0.96       600\n",
            "   macro avg       0.96      0.96      0.96       600\n",
            "weighted avg       0.96      0.96      0.96       600\n",
            "\n",
            "Train and test labels encoded into self.y_train and self.y_test\n",
            "Labels: [193 206 201] \n",
            " Original Predictions: [193 209 198] \n",
            " Attacked Predictions: [596   0   4]\n",
            "              precision    recall  f1-score   support\n",
            "\n",
            "           0       0.32      0.99      0.48       193\n",
            "           1       0.00      0.00      0.00       209\n",
            "           2       0.00      0.00      0.00       198\n",
            "\n",
            "    accuracy                           0.32       600\n",
            "   macro avg       0.11      0.33      0.16       600\n",
            "weighted avg       0.10      0.32      0.16       600\n",
            "\n"
          ],
          "name": "stdout"
        },
        {
          "output_type": "stream",
          "text": [
            "/usr/local/lib/python3.6/dist-packages/sklearn/metrics/_classification.py:1272: UndefinedMetricWarning: Precision and F-score are ill-defined and being set to 0.0 in labels with no predicted samples. Use `zero_division` parameter to control this behavior.\n",
            "  _warn_prf(average, modifier, msg_start, len(result))\n"
          ],
          "name": "stderr"
        }
      ]
    },
    {
      "cell_type": "markdown",
      "metadata": {
        "id": "QRjmr-hqBlU5",
        "colab_type": "text"
      },
      "source": [
        "Salt & pepper noise"
      ]
    },
    {
      "cell_type": "code",
      "metadata": {
        "id": "9odyim20ly7v",
        "colab_type": "code",
        "colab": {
          "base_uri": "https://localhost:8080/",
          "height": 751
        },
        "outputId": "97af2b3a-4575-490d-86dd-13c11943407e"
      },
      "source": [
        "ratio = 0.5\n",
        "prob = 0.0001\n",
        "classifier = ParticleClassifier()\\\n",
        "                .load_data('toy_data.csv')\\\n",
        "                .train_test_split()\\\n",
        "                .pre_proc_images(train=True, test=True, filters=False)\\\n",
        "                .one_hot_encode_labels(train=True, test=True)\\\n",
        "                .train_model()\\\n",
        "                .evaluate_model()\\\n",
        "                .apply_attack(classifier.add_sp_noise, ratio=ratio, prob=prob)\\\n",
        "               .pre_proc_images(attacked=True, filters=False)\\\n",
        "               .one_hot_encode_labels(attacked=True)\\\n",
        "               .evaluate_attack()"
      ],
      "execution_count": 133,
      "outputs": [
        {
          "output_type": "stream",
          "text": [
            "Data loaded into self.images, self.labels\n",
            "Split into self.images_train, self.images_test, self.labels_train, self.labels_test\n",
            "Train and test labels encoded into self.y_train and self.y_test\n",
            "Train on 1920 samples, validate on 480 samples\n",
            "Epoch 1/10\n",
            "1920/1920 [==============================] - 9s 5ms/sample - loss: 0.5220 - acc: 0.7833 - val_loss: 0.2142 - val_acc: 0.9208\n",
            "Epoch 2/10\n",
            "1920/1920 [==============================] - 8s 4ms/sample - loss: 0.2140 - acc: 0.9167 - val_loss: 0.1830 - val_acc: 0.9375\n",
            "Epoch 3/10\n",
            "1920/1920 [==============================] - 8s 4ms/sample - loss: 0.1865 - acc: 0.9354 - val_loss: 0.1209 - val_acc: 0.9604\n",
            "Epoch 4/10\n",
            "1920/1920 [==============================] - 8s 4ms/sample - loss: 0.1380 - acc: 0.9505 - val_loss: 0.1298 - val_acc: 0.9583\n",
            "Epoch 5/10\n",
            "1920/1920 [==============================] - 8s 4ms/sample - loss: 0.1306 - acc: 0.9552 - val_loss: 0.1375 - val_acc: 0.9583\n",
            "Epoch 6/10\n",
            "1920/1920 [==============================] - 8s 4ms/sample - loss: 0.1203 - acc: 0.9547 - val_loss: 0.1306 - val_acc: 0.9563\n",
            "Model trained.\n",
            "600/600 [==============================] - 1s 1ms/sample - loss: 0.1786 - acc: 0.9417\n",
            "              precision    recall  f1-score   support\n",
            "\n",
            "           0       0.99      0.97      0.98       207\n",
            "           1       0.89      0.98      0.94       194\n",
            "           2       0.95      0.87      0.91       199\n",
            "\n",
            "    accuracy                           0.94       600\n",
            "   macro avg       0.94      0.94      0.94       600\n",
            "weighted avg       0.94      0.94      0.94       600\n",
            "\n",
            "Train and test labels encoded into self.y_train and self.y_test\n",
            "Labels: [207 194 199] \n",
            " Original Predictions: [202 214 184] \n",
            " Attacked Predictions: [202 213 185]\n",
            "              precision    recall  f1-score   support\n",
            "\n",
            "           0       1.00      1.00      1.00       202\n",
            "           1       1.00      1.00      1.00       214\n",
            "           2       0.99      0.99      0.99       184\n",
            "\n",
            "    accuracy                           0.99       600\n",
            "   macro avg       0.99      0.99      0.99       600\n",
            "weighted avg       1.00      0.99      1.00       600\n",
            "\n"
          ],
          "name": "stdout"
        }
      ]
    },
    {
      "cell_type": "code",
      "metadata": {
        "id": "LXm2xzB4tpRa",
        "colab_type": "code",
        "colab": {
          "base_uri": "https://localhost:8080/",
          "height": 751
        },
        "outputId": "207bd9be-97a3-48be-9e68-fb4e35b2084b"
      },
      "source": [
        "ratio = 0.5\n",
        "prob = 0.01\n",
        "classifier = ParticleClassifier()\\\n",
        "                .load_data('toy_data.csv')\\\n",
        "                .train_test_split()\\\n",
        "                .pre_proc_images(train=True, test=True, filters=False)\\\n",
        "                .one_hot_encode_labels(train=True, test=True)\\\n",
        "                .train_model()\\\n",
        "                .evaluate_model()\\\n",
        "                .apply_attack(classifier.add_sp_noise, ratio=ratio, prob=prob)\\\n",
        "               .pre_proc_images(attacked=True, filters=False)\\\n",
        "               .one_hot_encode_labels(attacked=True)\\\n",
        "               .evaluate_attack()"
      ],
      "execution_count": 135,
      "outputs": [
        {
          "output_type": "stream",
          "text": [
            "Data loaded into self.images, self.labels\n",
            "Split into self.images_train, self.images_test, self.labels_train, self.labels_test\n",
            "Train and test labels encoded into self.y_train and self.y_test\n",
            "Train on 1920 samples, validate on 480 samples\n",
            "Epoch 1/10\n",
            "1920/1920 [==============================] - 9s 5ms/sample - loss: 0.5233 - acc: 0.7885 - val_loss: 0.2912 - val_acc: 0.8833\n",
            "Epoch 2/10\n",
            "1920/1920 [==============================] - 8s 4ms/sample - loss: 0.2050 - acc: 0.9224 - val_loss: 0.2832 - val_acc: 0.9125\n",
            "Epoch 3/10\n",
            "1920/1920 [==============================] - 8s 4ms/sample - loss: 0.1687 - acc: 0.9391 - val_loss: 0.2436 - val_acc: 0.9062\n",
            "Epoch 4/10\n",
            "1920/1920 [==============================] - 8s 4ms/sample - loss: 0.2038 - acc: 0.9234 - val_loss: 0.1897 - val_acc: 0.9417\n",
            "Epoch 5/10\n",
            "1920/1920 [==============================] - 8s 4ms/sample - loss: 0.1227 - acc: 0.9583 - val_loss: 0.1388 - val_acc: 0.9625\n",
            "Epoch 6/10\n",
            "1920/1920 [==============================] - 8s 4ms/sample - loss: 0.1021 - acc: 0.9656 - val_loss: 0.1326 - val_acc: 0.9521\n",
            "Model trained.\n",
            "600/600 [==============================] - 1s 1ms/sample - loss: 0.1240 - acc: 0.9533\n",
            "              precision    recall  f1-score   support\n",
            "\n",
            "           0       0.97      0.99      0.98       195\n",
            "           1       0.92      0.97      0.95       200\n",
            "           2       0.96      0.90      0.93       205\n",
            "\n",
            "    accuracy                           0.95       600\n",
            "   macro avg       0.95      0.95      0.95       600\n",
            "weighted avg       0.95      0.95      0.95       600\n",
            "\n",
            "Train and test labels encoded into self.y_train and self.y_test\n",
            "Labels: [195 200 205] \n",
            " Original Predictions: [198 211 191] \n",
            " Attacked Predictions: [178 202 220]\n",
            "              precision    recall  f1-score   support\n",
            "\n",
            "           0       1.00      0.90      0.95       198\n",
            "           1       0.99      0.95      0.97       211\n",
            "           2       0.86      0.99      0.92       191\n",
            "\n",
            "    accuracy                           0.95       600\n",
            "   macro avg       0.95      0.95      0.95       600\n",
            "weighted avg       0.95      0.95      0.95       600\n",
            "\n"
          ],
          "name": "stdout"
        }
      ]
    },
    {
      "cell_type": "code",
      "metadata": {
        "id": "iSZKK-j-uZfJ",
        "colab_type": "code",
        "colab": {
          "base_uri": "https://localhost:8080/",
          "height": 751
        },
        "outputId": "2fcda3a7-17cb-466c-8cbc-d6ac71e2c6e2"
      },
      "source": [
        "ratio = 0.5\n",
        "prob = 0.1\n",
        "classifier = ParticleClassifier()\\\n",
        "                .load_data('toy_data.csv')\\\n",
        "                .train_test_split()\\\n",
        "                .pre_proc_images(train=True, test=True, filters=False)\\\n",
        "                .one_hot_encode_labels(train=True, test=True)\\\n",
        "                .train_model()\\\n",
        "                .evaluate_model()\\\n",
        "                .apply_attack(classifier.add_sp_noise, ratio=ratio, prob=prob)\\\n",
        "               .pre_proc_images(attacked=True, filters=False)\\\n",
        "               .one_hot_encode_labels(attacked=True)\\\n",
        "               .evaluate_attack()"
      ],
      "execution_count": 141,
      "outputs": [
        {
          "output_type": "stream",
          "text": [
            "Data loaded into self.images, self.labels\n",
            "Split into self.images_train, self.images_test, self.labels_train, self.labels_test\n",
            "Train and test labels encoded into self.y_train and self.y_test\n",
            "Train on 1920 samples, validate on 480 samples\n",
            "Epoch 1/10\n",
            "1920/1920 [==============================] - 9s 5ms/sample - loss: 0.5317 - acc: 0.7578 - val_loss: 0.3392 - val_acc: 0.8604\n",
            "Epoch 2/10\n",
            "1920/1920 [==============================] - 8s 4ms/sample - loss: 0.2296 - acc: 0.9104 - val_loss: 0.2446 - val_acc: 0.9021\n",
            "Epoch 3/10\n",
            "1920/1920 [==============================] - 8s 4ms/sample - loss: 0.1826 - acc: 0.9302 - val_loss: 0.2463 - val_acc: 0.9083\n",
            "Epoch 4/10\n",
            "1920/1920 [==============================] - 8s 4ms/sample - loss: 0.1511 - acc: 0.9370 - val_loss: 0.2187 - val_acc: 0.9229\n",
            "Epoch 5/10\n",
            "1920/1920 [==============================] - 8s 4ms/sample - loss: 0.1315 - acc: 0.9521 - val_loss: 0.1771 - val_acc: 0.9396\n",
            "Epoch 6/10\n",
            "1920/1920 [==============================] - 8s 4ms/sample - loss: 0.1304 - acc: 0.9547 - val_loss: 0.1680 - val_acc: 0.9521\n",
            "Model trained.\n",
            "600/600 [==============================] - 1s 1ms/sample - loss: 0.1493 - acc: 0.9517\n",
            "              precision    recall  f1-score   support\n",
            "\n",
            "           0       0.97      0.97      0.97       189\n",
            "           1       0.93      0.98      0.96       216\n",
            "           2       0.95      0.90      0.92       195\n",
            "\n",
            "    accuracy                           0.95       600\n",
            "   macro avg       0.95      0.95      0.95       600\n",
            "weighted avg       0.95      0.95      0.95       600\n",
            "\n",
            "Train and test labels encoded into self.y_train and self.y_test\n",
            "Labels: [189 216 195] \n",
            " Original Predictions: [189 227 184] \n",
            " Attacked Predictions: [189   6 405]\n",
            "              precision    recall  f1-score   support\n",
            "\n",
            "           0       0.45      0.45      0.45       189\n",
            "           1       0.83      0.02      0.04       227\n",
            "           2       0.25      0.55      0.34       184\n",
            "\n",
            "    accuracy                           0.32       600\n",
            "   macro avg       0.51      0.34      0.28       600\n",
            "weighted avg       0.53      0.32      0.26       600\n",
            "\n"
          ],
          "name": "stdout"
        }
      ]
    },
    {
      "cell_type": "code",
      "metadata": {
        "id": "TzY4adQ-raqz",
        "colab_type": "code",
        "colab": {
          "base_uri": "https://localhost:8080/",
          "height": 767
        },
        "outputId": "70c9387a-a7d9-4255-e945-0692a681afe5"
      },
      "source": [
        "images = classifier.images\n",
        "for i in [0.001, 0.01, 0.1]:\n",
        "  ratio = 0.5\n",
        "  prob = i\n",
        "  sp_test = np.copy(images)\n",
        "  salt = np.ceil(prob * ratio * images[0].size)\n",
        "  pepper = np.ceil(prob * (1-ratio) * images[0].size)\n",
        "\n",
        "  for i in range(int(salt)):\n",
        "    loc = np.random.randint(0, images.shape[2], size=(images.shape[0], 2))\n",
        "    sp_test[np.arange(images.shape[0]),loc[:,0], loc[:,1]] = images.max()\n",
        "    \n",
        "  for j in range(int(pepper)):\n",
        "    loc = np.random.randint(0, images.shape[2], size=(images.shape[0], 2))\n",
        "    sp_test[np.arange(images.shape[0]),loc[:,0], loc[:,1]] = 0\n",
        "\n",
        "  plt.imshow(sp_test[0,:,:,0])\n",
        "  plt.show()"
      ],
      "execution_count": 22,
      "outputs": [
        {
          "output_type": "display_data",
          "data": {
            "image/png": "[encoded data removed]",
            "text/plain": [
              "<Figure size 432x288 with 1 Axes>"
            ]
          },
          "metadata": {
            "tags": []
          }
        },
        {
          "output_type": "display_data",
          "data": {
            "image/png": "[encoded data removed]",
            "text/plain": [
              "<Figure size 432x288 with 1 Axes>"
            ]
          },
          "metadata": {
            "tags": []
          }
        },
        {
          "output_type": "display_data",
          "data": {
            "image/png": "[encoded data removed]",
            "text/plain": [
              "<Figure size 432x288 with 1 Axes>"
            ]
          },
          "metadata": {
            "tags": []
          }
        }
      ]
    },
    {
      "cell_type": "code",
      "metadata": {
        "id": "XiAs9xkpqdXW",
        "colab_type": "code",
        "colab": {
          "base_uri": "https://localhost:8080/",
          "height": 284
        },
        "outputId": "0622fc1b-a66d-44a2-e252-0307d9a13520"
      },
      "source": [
        "images = classifier.images\n",
        "poisson = np.random.poisson(1, size=images.shape)\n",
        "plt.imshow(poisson[0,:,:,0])"
      ],
      "execution_count": 13,
      "outputs": [
        {
          "output_type": "execute_result",
          "data": {
            "text/plain": [
              "<matplotlib.image.AxesImage at 0x7f9f0f0a6550>"
            ]
          },
          "metadata": {
            "tags": []
          },
          "execution_count": 13
        },
        {
          "output_type": "display_data",
          "data": {
            "image/png": "[encoded data removed]",
            "text/plain": [
              "<Figure size 432x288 with 1 Axes>"
            ]
          },
          "metadata": {
            "tags": []
          }
        }
      ]
    }
  ]
}