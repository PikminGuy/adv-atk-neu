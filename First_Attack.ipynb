{
  "nbformat": 4,
  "nbformat_minor": 0,
  "metadata": {
    "colab": {
      "name": "First Attack",
      "provenance": [],
      "collapsed_sections": [],
      "authorship_tag": "ABX9TyOb9UqTGEfzrQhzBKrjEbBQ",
      "include_colab_link": true
    },
    "kernelspec": {
      "name": "python3",
      "display_name": "Python 3"
    }
  },
  "cells": [
    {
      "cell_type": "markdown",
      "metadata": {
        "id": "view-in-github",
        "colab_type": "text"
      },
      "source": [
        "<a href=\"https://colab.research.google.com/github/craycrayfish/adv-atk-neu/blob/master/First_Attack.ipynb\" target=\"_parent\"><img src=\"https://colab.research.google.com/assets/colab-badge.svg\" alt=\"Open In Colab\"/></a>"
      ]
    },
    {
      "cell_type": "markdown",
      "metadata": {
        "id": "jIgX55H2iowu",
        "colab_type": "text"
      },
      "source": [
        "## BSc Project: Adversarial Attacks on CNN Model\n",
        "\n",
        "The First Attack - Single Pixel Attack"
      ]
    },
    {
      "cell_type": "code",
      "metadata": {
        "id": "8IEArTpKErUo",
        "colab_type": "code",
        "colab": {}
      },
      "source": [
        ""
      ],
      "execution_count": 0,
      "outputs": []
    },
    {
      "cell_type": "code",
      "metadata": {
        "id": "4iDD-8xuFq7U",
        "colab_type": "code",
        "outputId": "a03e387c-5598-4882-b3c1-82660b0cdaea",
        "colab": {
          "base_uri": "https://localhost:8080/",
          "height": 122
        }
      },
      "source": [
        "from google.colab import drive\n",
        "drive.mount('/content/drive')"
      ],
      "execution_count": 0,
      "outputs": [
        {
          "output_type": "stream",
          "text": [
            "Go to this URL in a browser: https://accounts.google.com/o/oauth2/auth?client_id=947318989803-6bn6qk8qdgf4n4g3pfee6491hc0brc4i.apps.googleusercontent.com&redirect_uri=urn%3aietf%3awg%3aoauth%3a2.0%3aoob&response_type=code&scope=email%20https%3a%2f%2fwww.googleapis.com%2fauth%2fdocs.test%20https%3a%2f%2fwww.googleapis.com%2fauth%2fdrive%20https%3a%2f%2fwww.googleapis.com%2fauth%2fdrive.photos.readonly%20https%3a%2f%2fwww.googleapis.com%2fauth%2fpeopleapi.readonly\n",
            "\n",
            "Enter your authorization code:\n",
            "··········\n",
            "Mounted at /content/drive\n"
          ],
          "name": "stdout"
        }
      ]
    },
    {
      "cell_type": "code",
      "metadata": {
        "id": "xnhq83NdK-XO",
        "colab_type": "code",
        "outputId": "b28fe4c1-ea90-4d78-fdab-ee3ffacd1a44",
        "colab": {
          "base_uri": "https://localhost:8080/",
          "height": 97
        }
      },
      "source": [
        "import pandas as pd\n",
        "import tensorflow as tf\n",
        "import numpy as np\n",
        "import matplotlib.pyplot as plt\n",
        "from sklearn.metrics import classification_report\n",
        "from sklearn.model_selection import train_test_split\n",
        "from keras.utils import to_categorical"
      ],
      "execution_count": 0,
      "outputs": [
        {
          "output_type": "display_data",
          "data": {
            "text/html": [
              "<p style=\"color: red;\">\n",
              "The default version of TensorFlow in Colab will soon switch to TensorFlow 2.x.<br>\n",
              "We recommend you <a href=\"https://www.tensorflow.org/guide/migrate\" target=\"_blank\">upgrade</a> now \n",
              "or ensure your notebook will continue to use TensorFlow 1.x via the <code>%tensorflow_version 1.x</code> magic:\n",
              "<a href=\"https://colab.research.google.com/notebooks/tensorflow_version.ipynb\" target=\"_blank\">more info</a>.</p>\n"
            ],
            "text/plain": [
              "<IPython.core.display.HTML object>"
            ]
          },
          "metadata": {
            "tags": []
          }
        },
        {
          "output_type": "stream",
          "text": [
            "Using TensorFlow backend.\n"
          ],
          "name": "stderr"
        }
      ]
    },
    {
      "cell_type": "code",
      "metadata": {
        "id": "wB3wCkvuE0EP",
        "colab_type": "code",
        "outputId": "1a8473ec-0823-4af3-88a5-5c4dc02c3274",
        "colab": {
          "base_uri": "https://localhost:8080/",
          "height": 51
        }
      },
      "source": [
        "# run it everytime it refreshes\n",
        "\n",
        "!pip install -qq -e git+http://github.com/tensorflow/cleverhans.git#egg=cleverhans\n",
        "import sys\n",
        "sys.path.append('/content/src/cleverhans')\n",
        "import cleverhans"
      ],
      "execution_count": 0,
      "outputs": [
        {
          "output_type": "stream",
          "text": [
            "\u001b[K     |████████████████████████████████| 163kB 4.7MB/s \n",
            "\u001b[K     |████████████████████████████████| 51kB 7.0MB/s \n",
            "\u001b[?25h"
          ],
          "name": "stdout"
        }
      ]
    },
    {
      "cell_type": "code",
      "metadata": {
        "id": "BKVE_giHioRG",
        "colab_type": "code",
        "colab": {}
      },
      "source": [
        "# Loading in data\n",
        "\n",
        "data = np.genfromtxt('/content/toy_data.csv', delimiter=',')\n",
        "labels = data[:,0]\n",
        "images = data[:, 1:].reshape((len(data),50,50,1))"
      ],
      "execution_count": 0,
      "outputs": []
    },
    {
      "cell_type": "code",
      "metadata": {
        "id": "L1SXSAMZEhyn",
        "colab_type": "code",
        "outputId": "0a4f79b5-8a02-413c-d21e-0e746fde5a07",
        "colab": {
          "base_uri": "https://localhost:8080/",
          "height": 301
        }
      },
      "source": [
        "# simple plots of data\n",
        "\n",
        "n = 0\n",
        "print(labels[n])\n",
        "plt.imshow(images[n][:,:,0], cmap='viridis')"
      ],
      "execution_count": 0,
      "outputs": [
        {
          "output_type": "stream",
          "text": [
            "1.0\n"
          ],
          "name": "stdout"
        },
        {
          "output_type": "execute_result",
          "data": {
            "text/plain": [
              "<matplotlib.image.AxesImage at 0x7fe58fbef358>"
            ]
          },
          "metadata": {
            "tags": []
          },
          "execution_count": 48
        },
        {
          "output_type": "display_data",
          "data": {
            "image/png": "[encoded data removed]",
            "text/plain": [
              "<Figure size 432x288 with 1 Axes>"
            ]
          },
          "metadata": {
            "tags": []
          }
        }
      ]
    },
    {
      "cell_type": "code",
      "metadata": {
        "id": "EHXfHiPBEhwH",
        "colab_type": "code",
        "colab": {}
      },
      "source": [
        "# Subtract the mean, remove all negative values and scale following the max of each image\n",
        "images_scaled = np.subtract(images, np.mean(images, axis=0))\n",
        "images_scaled[images_scaled < 0] = 0.\n",
        "images_scaled = np.divide(images_scaled, np.max(images_scaled, axis=0))"
      ],
      "execution_count": 0,
      "outputs": []
    },
    {
      "cell_type": "code",
      "metadata": {
        "id": "yzg0Bsr1Ehr_",
        "colab_type": "code",
        "colab": {}
      },
      "source": [
        "# split the dataset\n",
        "x = images_scaled\n",
        "y = to_categorical(labels)\n",
        "x_train, x_test, y_train, y_test = train_test_split(x, y, test_size=0.2)"
      ],
      "execution_count": 0,
      "outputs": []
    },
    {
      "cell_type": "code",
      "metadata": {
        "id": "09DDyPEVG3Ce",
        "colab_type": "code",
        "outputId": "805a332c-74a4-464a-c3de-cd0349d195e7",
        "colab": {
          "base_uri": "https://localhost:8080/",
          "height": 301
        }
      },
      "source": [
        "n = 6\n",
        "print(y_train[n])\n",
        "plt.imshow(x_train[n][:,:,0])"
      ],
      "execution_count": 0,
      "outputs": [
        {
          "output_type": "stream",
          "text": [
            "[0. 1. 0.]\n"
          ],
          "name": "stdout"
        },
        {
          "output_type": "execute_result",
          "data": {
            "text/plain": [
              "<matplotlib.image.AxesImage at 0x7fe58fc3c898>"
            ]
          },
          "metadata": {
            "tags": []
          },
          "execution_count": 51
        },
        {
          "output_type": "display_data",
          "data": {
            "image/png": "[encoded data removed]",
            "text/plain": [
              "<Figure size 432x288 with 1 Axes>"
            ]
          },
          "metadata": {
            "tags": []
          }
        }
      ]
    },
    {
      "cell_type": "code",
      "metadata": {
        "id": "KUSLbLdoEhjJ",
        "colab_type": "code",
        "outputId": "17525063-c603-4d6a-b165-13f90b5bd589",
        "colab": {
          "base_uri": "https://localhost:8080/",
          "height": 462
        }
      },
      "source": [
        "# building a model\n",
        "\n",
        "model = tf.keras.models.Sequential([\n",
        "    tf.keras.layers.Conv2D(64, (3,3), activation='relu', input_shape=(50, 50, 1)),\n",
        "    tf.keras.layers.MaxPooling2D(2, 2),\n",
        "    tf.keras.layers.Conv2D(32, (3,3), activation='relu'),\n",
        "    tf.keras.layers.MaxPooling2D(2, 2),\n",
        "    tf.keras.layers.Conv2D(16, (3,3), activation='relu'),\n",
        "    tf.keras.layers.Flatten(),\n",
        "    # 512 neuron hidden layer\n",
        "    tf.keras.layers.Dense(512, activation='relu'),\n",
        "    tf.keras.layers.Dense(128, activation='relu'),\n",
        "    tf.keras.layers.Dense(32, activation='relu'),\n",
        "    tf.keras.layers.Dense(3, activation='softmax')\n",
        "])\n",
        "model.compile(loss='categorical_crossentropy',\n",
        "              optimizer='adam',\n",
        "              metrics=['acc'])\n",
        "\n",
        "model.fit(\n",
        "      x_train,\n",
        "      y_train,  \n",
        "      epochs=10,\n",
        "      verbose=1)"
      ],
      "execution_count": 0,
      "outputs": [
        {
          "output_type": "stream",
          "text": [
            "WARNING:tensorflow:From /usr/local/lib/python3.6/dist-packages/tensorflow_core/python/ops/resource_variable_ops.py:1630: calling BaseResourceVariable.__init__ (from tensorflow.python.ops.resource_variable_ops) with constraint is deprecated and will be removed in a future version.\n",
            "Instructions for updating:\n",
            "If using Keras pass *_constraint arguments to layers.\n",
            "Train on 2400 samples\n",
            "Epoch 1/10\n",
            "2400/2400 [==============================] - 10s 4ms/sample - loss: 0.9915 - acc: 0.4967\n",
            "Epoch 2/10\n",
            "2400/2400 [==============================] - 10s 4ms/sample - loss: 0.2844 - acc: 0.9167\n",
            "Epoch 3/10\n",
            "2400/2400 [==============================] - 10s 4ms/sample - loss: 0.0612 - acc: 0.9812\n",
            "Epoch 4/10\n",
            "2400/2400 [==============================] - 10s 4ms/sample - loss: 0.0464 - acc: 0.9892\n",
            "Epoch 5/10\n",
            "2400/2400 [==============================] - 10s 4ms/sample - loss: 0.0400 - acc: 0.9904\n",
            "Epoch 6/10\n",
            "2400/2400 [==============================] - 10s 4ms/sample - loss: 0.0495 - acc: 0.9879\n",
            "Epoch 7/10\n",
            "2400/2400 [==============================] - 10s 4ms/sample - loss: 0.0290 - acc: 0.9933\n",
            "Epoch 8/10\n",
            "2400/2400 [==============================] - 10s 4ms/sample - loss: 0.0192 - acc: 0.9958\n",
            "Epoch 9/10\n",
            "2400/2400 [==============================] - 10s 4ms/sample - loss: 0.0196 - acc: 0.9950\n",
            "Epoch 10/10\n",
            "2400/2400 [==============================] - 10s 4ms/sample - loss: 0.0176 - acc: 0.9962\n"
          ],
          "name": "stdout"
        },
        {
          "output_type": "execute_result",
          "data": {
            "text/plain": [
              "<tensorflow.python.keras.callbacks.History at 0x7fe56b2117b8>"
            ]
          },
          "metadata": {
            "tags": []
          },
          "execution_count": 52
        }
      ]
    },
    {
      "cell_type": "code",
      "metadata": {
        "id": "oi62-VzDEsQP",
        "colab_type": "code",
        "outputId": "c30dc84b-cb54-4e41-cd15-b16b6d149cdb",
        "colab": {
          "base_uri": "https://localhost:8080/",
          "height": 51
        }
      },
      "source": [
        "model.evaluate(x_test, y_test)"
      ],
      "execution_count": 0,
      "outputs": [
        {
          "output_type": "stream",
          "text": [
            "600/600 [==============================] - 1s 1ms/sample - loss: 0.0253 - acc: 0.9917\n"
          ],
          "name": "stdout"
        },
        {
          "output_type": "execute_result",
          "data": {
            "text/plain": [
              "[0.025292747064183156, 0.9916667]"
            ]
          },
          "metadata": {
            "tags": []
          },
          "execution_count": 53
        }
      ]
    },
    {
      "cell_type": "code",
      "metadata": {
        "id": "ZM1pFtLCEvzg",
        "colab_type": "code",
        "outputId": "b8dd3b6d-fcc6-46b2-a0e0-328c04f551bd",
        "colab": {
          "base_uri": "https://localhost:8080/",
          "height": 187
        }
      },
      "source": [
        "y_pred = model.predict(x_test)\n",
        "print(classification_report(np.argmax(y_test, axis=1), np.argmax(y_pred, axis=1)))"
      ],
      "execution_count": 0,
      "outputs": [
        {
          "output_type": "stream",
          "text": [
            "              precision    recall  f1-score   support\n",
            "\n",
            "           0       0.99      1.00      0.99       189\n",
            "           1       1.00      0.98      0.99       200\n",
            "           2       0.99      0.99      0.99       211\n",
            "\n",
            "    accuracy                           0.99       600\n",
            "   macro avg       0.99      0.99      0.99       600\n",
            "weighted avg       0.99      0.99      0.99       600\n",
            "\n"
          ],
          "name": "stdout"
        }
      ]
    },
    {
      "cell_type": "code",
      "metadata": {
        "id": "QiyD8THRHD2o",
        "colab_type": "code",
        "outputId": "8f188aa5-3392-46c9-f457-c5be4675523d",
        "colab": {
          "base_uri": "https://localhost:8080/",
          "height": 284
        }
      },
      "source": [
        "# a very simple single pixel attack\n",
        "\n",
        "n = 1203 \n",
        "print(np.argmax(y_train[n]))\n",
        "plt.imshow(x_train[n][:,:,0])\n",
        "copy = x_train[n]"
      ],
      "execution_count": 0,
      "outputs": [
        {
          "output_type": "stream",
          "text": [
            "1\n"
          ],
          "name": "stdout"
        },
        {
          "output_type": "display_data",
          "data": {
            "image/png": "[encoded data removed]",
            "text/plain": [
              "<Figure size 432x288 with 1 Axes>"
            ]
          },
          "metadata": {
            "tags": []
          }
        }
      ]
    },
    {
      "cell_type": "code",
      "metadata": {
        "id": "JptVSGdogDys",
        "colab_type": "code",
        "outputId": "87ff149c-8bfe-4378-b8ec-8f28ca3691b2",
        "colab": {
          "base_uri": "https://localhost:8080/",
          "height": 284
        }
      },
      "source": [
        "def perturb_image(xs, img):\n",
        "  coord_x = xs[0]\n",
        "  coord_y = xs[1]\n",
        "  new_value = xs[2]\n",
        "  img[coord_x, coord_y] = [new_value]\n",
        "  return img\n",
        "   \n",
        "pixel = np.array([16, 32, 1])\n",
        "image_perturbed = perturb_image(pixel, copy)\n",
        "plt.imshow(image_perturbed[:,:,0])"
      ],
      "execution_count": 0,
      "outputs": [
        {
          "output_type": "execute_result",
          "data": {
            "text/plain": [
              "<matplotlib.image.AxesImage at 0x7fe585914fd0>"
            ]
          },
          "metadata": {
            "tags": []
          },
          "execution_count": 84
        },
        {
          "output_type": "display_data",
          "data": {
            "image/png": "[encoded data removed]",
            "text/plain": [
              "<Figure size 432x288 with 1 Axes>"
            ]
          },
          "metadata": {
            "tags": []
          }
        }
      ]
    },
    {
      "cell_type": "code",
      "metadata": {
        "id": "s67uXssygs-p",
        "colab_type": "code",
        "outputId": "2bfb22ab-d255-4fe9-badd-a67252dfa331",
        "colab": {
          "base_uri": "https://localhost:8080/",
          "height": 34
        }
      },
      "source": [
        "from keras.preprocessing import image\n",
        "\n",
        "x = image.img_to_array(image_perturbed)\n",
        "x = np.expand_dims(x, axis=0)\n",
        "\n",
        "images = np.vstack([x])\n",
        "classes = model.predict(images, batch_size=10)\n",
        "print('new prediction is', np.argmax(classes),',', 'old prediction is', np.argmax(y_train[n]))"
      ],
      "execution_count": 0,
      "outputs": [
        {
          "output_type": "stream",
          "text": [
            "new prediction is 1 , old prediction is 1\n"
          ],
          "name": "stdout"
        }
      ]
    },
    {
      "cell_type": "code",
      "metadata": {
        "id": "if-l1dIGrbTJ",
        "colab_type": "code",
        "colab": {}
      },
      "source": [
        ""
      ],
      "execution_count": 0,
      "outputs": []
    }
  ]
}