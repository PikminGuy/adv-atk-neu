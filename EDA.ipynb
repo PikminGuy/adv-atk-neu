{
 "cells": [
  {
   "cell_type": "code",
   "execution_count": 325,
   "metadata": {},
   "outputs": [],
   "source": [
    "import os\n",
    "import numpy as np\n",
    "import tensorflow as tf\n",
    "import keras.metrics\n",
    "import pandas as pd\n",
    "import matplotlib.pyplot as plt\n",
    "from sklearn import preprocessing\n",
    "from sklearn.model_selection import train_test_split\n",
    "from sklearn.metrics import classification_report\n",
    "from keras.utils import to_categorical\n",
    "from tensorflow.keras.optimizers import RMSprop"
   ]
  },
  {
   "cell_type": "code",
   "execution_count": 320,
   "metadata": {},
   "outputs": [],
   "source": [
    "# Adds Precision and Recall metrics\n",
    "from keras import backend as K\n",
    "\n",
    "def recall_m(y_true, y_pred):\n",
    "        true_positives = K.sum(K.round(K.clip(y_true * y_pred, 0, 1)))\n",
    "        possible_positives = K.sum(K.round(K.clip(y_true, 0, 1)))\n",
    "        recall = true_positives / (possible_positives + K.epsilon())\n",
    "        return recall\n",
    "\n",
    "def precision_m(y_true, y_pred):\n",
    "        true_positives = K.sum(K.round(K.clip(y_true * y_pred, 0, 1)))\n",
    "        predicted_positives = K.sum(K.round(K.clip(y_pred, 0, 1)))\n",
    "        precision = true_positives / (predicted_positives + K.epsilon())\n",
    "        return precision"
   ]
  },
  {
   "cell_type": "code",
   "execution_count": 72,
   "metadata": {},
   "outputs": [
    {
     "data": {
      "text/plain": [
       "3000"
      ]
     },
     "execution_count": 72,
     "metadata": {},
     "output_type": "execute_result"
    }
   ],
   "source": [
    "# Loading in data\n",
    "data = np.genfromtxt('data/toy_data.csv', delimiter=',')\n",
    "len(data)"
   ]
  },
  {
   "cell_type": "code",
   "execution_count": 123,
   "metadata": {},
   "outputs": [],
   "source": [
    "labels = data[:,0]\n",
    "images = data[:, 1:].reshape((len(data),50,50,1))"
   ]
  },
  {
   "cell_type": "code",
   "execution_count": 220,
   "metadata": {},
   "outputs": [
    {
     "name": "stderr",
     "output_type": "stream",
     "text": [
      "No handles with labels found to put in legend.\n"
     ]
    },
    {
     "name": "stdout",
     "output_type": "stream",
     "text": [
      "1.0\n"
     ]
    },
    {
     "data": {
      "text/plain": [
       "<matplotlib.legend.Legend at 0x1848e13d68>"
      ]
     },
     "execution_count": 220,
     "metadata": {},
     "output_type": "execute_result"
    },
    {
     "data": {
      "image/png": "[encoded data removed]",
      "text/plain": [
       "<Figure size 432x288 with 1 Axes>"
      ]
     },
     "metadata": {
      "needs_background": "light"
     },
     "output_type": "display_data"
    }
   ],
   "source": [
    "# Visualisation of a sample image\n",
    "n = 0\n",
    "print(labels[n])\n",
    "plt.imshow(images[n][:,:,0], cmap='gray')\n",
    "plt.legend()"
   ]
  },
  {
   "cell_type": "code",
   "execution_count": 225,
   "metadata": {},
   "outputs": [
    {
     "data": {
      "text/plain": [
       "(21, 17, 0)"
      ]
     },
     "execution_count": 225,
     "metadata": {},
     "output_type": "execute_result"
    }
   ],
   "source": [
    "np.unravel_index(np.argmax(images[0]), images[0].shape)"
   ]
  },
  {
   "cell_type": "code",
   "execution_count": 228,
   "metadata": {},
   "outputs": [
    {
     "data": {
      "text/plain": [
       "137.41"
      ]
     },
     "execution_count": 228,
     "metadata": {},
     "output_type": "execute_result"
    }
   ],
   "source": [
    "images[0, 21, 17, 0]"
   ]
  },
  {
   "cell_type": "code",
   "execution_count": 218,
   "metadata": {},
   "outputs": [
    {
     "data": {
      "text/plain": [
       "array([[104.56,  97.8 ,  95.62, 103.84, 106.65,  93.05, 100.05,  98.78,\n",
       "         93.48, 104.63],\n",
       "       [104.82,  95.01,  99.04, 101.22,  92.83, 106.42, 101.25, 108.23,\n",
       "         98.93, 103.35],\n",
       "       [105.08,  99.67,  94.64,  93.31,  99.11, 108.05, 124.53, 124.14,\n",
       "        123.39, 121.24],\n",
       "       [ 89.33, 103.82,  97.72,  97.25, 102.76, 112.85, 117.26, 137.41,\n",
       "        125.13, 131.31],\n",
       "       [ 92.74,  99.53, 101.6 ,  96.56,  98.49, 112.47, 119.07, 117.47,\n",
       "        119.95, 114.98]])"
      ]
     },
     "execution_count": 218,
     "metadata": {},
     "output_type": "execute_result"
    }
   ],
   "source": [
    "images[0][18:23, 10:20].reshape((5, 10))"
   ]
  },
  {
   "cell_type": "code",
   "execution_count": 222,
   "metadata": {},
   "outputs": [
    {
     "name": "stdout",
     "output_type": "stream",
     "text": [
      "72.81\n",
      "160.78\n"
     ]
    }
   ],
   "source": [
    "print(np.min(images))\n",
    "print(np.max(images))"
   ]
  },
  {
   "cell_type": "markdown",
   "metadata": {},
   "source": [
    "### Data Pre-Processing"
   ]
  },
  {
   "cell_type": "code",
   "execution_count": 340,
   "metadata": {},
   "outputs": [],
   "source": [
    "# Subtract the mean, remove all negative values and scale following the max of each image\n",
    "images_scaled = np.subtract(images, np.mean(images, axis=0))\n",
    "images_scaled[images_scaled < 0] = 0.\n",
    "images_scaled = np.divide(images_scaled, np.max(images_scaled, axis=0))"
   ]
  },
  {
   "cell_type": "code",
   "execution_count": 341,
   "metadata": {},
   "outputs": [],
   "source": [
    "# One hot encode labels\n",
    "x = images_scaled\n",
    "y = to_categorical(labels)\n",
    "x_train, x_test, y_train, y_test = train_test_split(x, y, test_size=0.2)"
   ]
  },
  {
   "cell_type": "code",
   "execution_count": 342,
   "metadata": {},
   "outputs": [
    {
     "name": "stdout",
     "output_type": "stream",
     "text": [
      "[1. 0. 0.]\n"
     ]
    },
    {
     "data": {
      "text/plain": [
       "<matplotlib.image.AxesImage at 0x1847eba278>"
      ]
     },
     "execution_count": 342,
     "metadata": {},
     "output_type": "execute_result"
    },
    {
     "data": {
      "image/png": "[encoded data removed]",
      "text/plain": [
       "<Figure size 432x288 with 1 Axes>"
      ]
     },
     "metadata": {
      "needs_background": "light"
     },
     "output_type": "display_data"
    }
   ],
   "source": [
    "# Displays a sample image after pre-processing\n",
    "n = 6\n",
    "print(y_train[n])\n",
    "plt.imshow(x_train[n][:,:,0])"
   ]
  },
  {
   "cell_type": "markdown",
   "metadata": {},
   "source": [
    "### Building the Model"
   ]
  },
  {
   "cell_type": "code",
   "execution_count": 343,
   "metadata": {
    "scrolled": true
   },
   "outputs": [],
   "source": [
    "model = tf.keras.models.Sequential([\n",
    "    # Note the input shape is the desired size of the image 50x50 with 1 bytes color\n",
    "    # This is the first convolution\n",
    "    tf.keras.layers.Conv2D(64, (3,3), activation='relu', input_shape=(50, 50, 1)),\n",
    "    tf.keras.layers.MaxPooling2D(2, 2),\n",
    "    tf.keras.layers.Conv2D(32, (3,3), activation='relu'),\n",
    "    tf.keras.layers.MaxPooling2D(2, 2),\n",
    "    tf.keras.layers.Flatten(),\n",
    "    # 512 neuron hidden layer\n",
    "    tf.keras.layers.Dense(512, activation='relu'),\n",
    "    tf.keras.layers.Dense(128, activation='relu'),\n",
    "    tf.keras.layers.Dense(32, activation='relu'),\n",
    "    tf.keras.layers.Dense(3, activation='softmax')\n",
    "])\n",
    "model.compile(loss='categorical_crossentropy',\n",
    "              optimizer='adam',\n",
    "              metrics=['acc'])"
   ]
  },
  {
   "cell_type": "code",
   "execution_count": 344,
   "metadata": {
    "scrolled": true
   },
   "outputs": [
    {
     "name": "stdout",
     "output_type": "stream",
     "text": [
      "Train on 1920 samples, validate on 480 samples\n",
      "Epoch 1/10\n",
      "1920/1920 [==============================] - 7s 4ms/sample - loss: 1.0472 - acc: 0.4651 - val_loss: 0.7701 - val_acc: 0.7292\n",
      "Epoch 2/10\n",
      "1920/1920 [==============================] - 5s 2ms/sample - loss: 0.4196 - acc: 0.8760 - val_loss: 0.1075 - val_acc: 0.9667\n",
      "Epoch 3/10\n",
      "1920/1920 [==============================] - 5s 2ms/sample - loss: 0.0846 - acc: 0.9755 - val_loss: 0.2528 - val_acc: 0.9167\n",
      "Epoch 4/10\n",
      "1920/1920 [==============================] - 5s 2ms/sample - loss: 0.0616 - acc: 0.9828 - val_loss: 0.0491 - val_acc: 0.9875\n",
      "Epoch 5/10\n",
      "1920/1920 [==============================] - 5s 2ms/sample - loss: 0.0495 - acc: 0.9875 - val_loss: 0.0997 - val_acc: 0.9604\n",
      "Epoch 6/10\n",
      "1920/1920 [==============================] - 5s 2ms/sample - loss: 0.0390 - acc: 0.9906 - val_loss: 0.0440 - val_acc: 0.9833\n",
      "Epoch 7/10\n",
      "1920/1920 [==============================] - 5s 2ms/sample - loss: 0.0278 - acc: 0.9922 - val_loss: 0.0379 - val_acc: 0.9854\n",
      "Epoch 8/10\n",
      "1920/1920 [==============================] - 5s 2ms/sample - loss: 0.0279 - acc: 0.9932 - val_loss: 0.0304 - val_acc: 0.9917\n",
      "Epoch 9/10\n",
      "1920/1920 [==============================] - 5s 2ms/sample - loss: 0.0212 - acc: 0.9943 - val_loss: 0.0304 - val_acc: 0.9917\n",
      "Epoch 10/10\n",
      "1920/1920 [==============================] - 5s 2ms/sample - loss: 0.0125 - acc: 0.9958 - val_loss: 0.0296 - val_acc: 0.9958\n"
     ]
    }
   ],
   "source": [
    "history = model.fit(\n",
    "      x_train,\n",
    "      y_train,  \n",
    "      epochs=10,\n",
    "      verbose=1,\n",
    "      validation_split=0.2\n",
    ")"
   ]
  },
  {
   "cell_type": "code",
   "execution_count": 345,
   "metadata": {},
   "outputs": [
    {
     "name": "stdout",
     "output_type": "stream",
     "text": [
      "600/600 [==============================] - 0s 574us/sample - loss: 0.0333 - acc: 0.9933\n",
      "              precision    recall  f1-score   support\n",
      "\n",
      "           0       1.00      1.00      1.00       203\n",
      "           1       1.00      0.98      0.99       198\n",
      "           2       0.99      0.99      0.99       199\n",
      "\n",
      "   micro avg       0.99      0.99      0.99       600\n",
      "   macro avg       0.99      0.99      0.99       600\n",
      "weighted avg       0.99      0.99      0.99       600\n",
      "\n"
     ]
    }
   ],
   "source": [
    "model.evaluate(x_test, y_test)\n",
    "y_pred = model.predict(x_test)\n",
    "print(classification_report(np.argmax(y_test, axis=1), np.argmax(y_pred, axis=1)))"
   ]
  },
  {
   "cell_type": "code",
   "execution_count": null,
   "metadata": {},
   "outputs": [],
   "source": []
  }
 ],
 "metadata": {
  "kernelspec": {
   "display_name": "Python 3",
   "language": "python",
   "name": "python3"
  },
  "language_info": {
   "codemirror_mode": {
    "name": "ipython",
    "version": 3
   },
   "file_extension": ".py",
   "mimetype": "text/x-python",
   "name": "python",
   "nbconvert_exporter": "python",
   "pygments_lexer": "ipython3",
   "version": "3.6.7"
  }
 },
 "nbformat": 4,
 "nbformat_minor": 2
}
