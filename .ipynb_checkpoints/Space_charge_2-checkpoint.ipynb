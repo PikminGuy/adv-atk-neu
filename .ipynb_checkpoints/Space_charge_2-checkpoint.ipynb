{
 "cells": [
  {
   "cell_type": "markdown",
   "metadata": {
    "colab_type": "text",
    "id": "view-in-github"
   },
   "source": [
    "<a href=\"https://colab.research.google.com/github/craycrayfish/adv-atk-neu/blob/master/Space_charge_2.ipynb\" target=\"_parent\"><img src=\"https://colab.research.google.com/assets/colab-badge.svg\" alt=\"Open In Colab\"/></a>"
   ]
  },
  {
   "cell_type": "code",
   "execution_count": 1,
   "metadata": {
    "colab": {
     "base_uri": "https://localhost:8080/",
     "height": 80
    },
    "colab_type": "code",
    "id": "q5C2hlOr2Juv",
    "outputId": "40b68abd-d3d4-46e5-e74a-0e02cbb7c027"
   },
   "outputs": [
    {
     "data": {
      "text/html": [
       "<p style=\"color: red;\">\n",
       "The default version of TensorFlow in Colab will soon switch to TensorFlow 2.x.<br>\n",
       "We recommend you <a href=\"https://www.tensorflow.org/guide/migrate\" target=\"_blank\">upgrade</a> now \n",
       "or ensure your notebook will continue to use TensorFlow 1.x via the <code>%tensorflow_version 1.x</code> magic:\n",
       "<a href=\"https://colab.research.google.com/notebooks/tensorflow_version.ipynb\" target=\"_blank\">more info</a>.</p>\n"
      ],
      "text/plain": [
       "<IPython.core.display.HTML object>"
      ]
     },
     "metadata": {
      "tags": []
     },
     "output_type": "display_data"
    },
    {
     "name": "stderr",
     "output_type": "stream",
     "text": [
      "Using TensorFlow backend.\n"
     ]
    }
   ],
   "source": [
    "''' This file contains the model used to Classify Particles'''\n",
    "\n",
    "import os\n",
    "import numpy as np\n",
    "import tensorflow as tf\n",
    "import keras.metrics\n",
    "import pandas as pd\n",
    "import matplotlib.pyplot as plt\n",
    "from sklearn import preprocessing\n",
    "from sklearn.model_selection import train_test_split\n",
    "from sklearn.metrics import classification_report\n",
    "from keras.utils import to_categorical\n",
    "from tensorflow.keras.optimizers import RMSprop\n",
    "from tensorflow.keras.callbacks import EarlyStopping\n",
    "from scipy import ndimage\n",
    "\n",
    "class ParticleClassifier():\n",
    "    def __init__(self):\n",
    "        '''x and y is after preprocessing'''\n",
    "        self.path = None\n",
    "        self.images = None\n",
    "        self.labels = None\n",
    "        self.images_train = None\n",
    "        self.images_test = None\n",
    "        self.labels_train = None\n",
    "        self.labels_test = None\n",
    "        self.x = None\n",
    "        self.y = None\n",
    "        self.x_train = None\n",
    "        self.x_test = None\n",
    "        self.y_train = None\n",
    "        self.y_test = None\n",
    "        self.images_attacked = None\n",
    "        self.labels_attacked = None\n",
    "        self.x_attacked = None\n",
    "        self.y_attacked = None\n",
    "        self.predictions = None\n",
    "        self.attacked_predictions = None\n",
    "        self.misclassifications = None\n",
    "        self.x_mis_orig = None\n",
    "        self.x_mis_attacked = None\n",
    "        self.pred_mis_orig = None\n",
    "        self.pred_mis_attacked = None\n",
    "        \n",
    "        self.model = tf.keras.models.Sequential([\n",
    "        # Note the input shape is the desired size of the image 50x50 with 1 bytes color\n",
    "        tf.keras.layers.Conv2D(64, (3,3), activation='relu', input_shape=(50, 50, 1)),\n",
    "        tf.keras.layers.MaxPooling2D(2, 2),\n",
    "        tf.keras.layers.Conv2D(32, (3,3), activation='relu'),\n",
    "        tf.keras.layers.MaxPooling2D(2, 2),\n",
    "        tf.keras.layers.Conv2D(16, (3,3), activation='relu'),\n",
    "        tf.keras.layers.MaxPooling2D(2, 2),\n",
    "        tf.keras.layers.Flatten(),\n",
    "        # 512 neuron hidden layer\n",
    "        tf.keras.layers.Dense(512, activation='relu'),\n",
    "        tf.keras.layers.Dense(128, activation='relu'),\n",
    "        tf.keras.layers.Dense(32, activation='relu'),\n",
    "        tf.keras.layers.Dense(3, activation='softmax')\n",
    "        ])\n",
    "        \n",
    "        self.messages = {'load_data': 'Data loaded into self.images, self.labels',\n",
    "                         'train_test_split': 'Split into self.images_train, self.images_test, self.labels_train, self.labels_test',\n",
    "                         'pre_proc_train': 'Train images pre-processed into self.x_train',\n",
    "                         'pre_proc_test': 'Test images pre-processed into self.x_test',\n",
    "                         'one_hot_encode': 'Train and test labels encoded into self.y_train and self.y_test',\n",
    "                         'train_model': 'Model trained.',\n",
    "                         'gen_hot_channel_data': 'Hot channel data generated in self.images_attacked, self.labels_attacked, self.x_attacked, self.y_attacked'}\n",
    "            \n",
    "        \n",
    "    def __call__(self):\n",
    "        return\n",
    "        \n",
    "    def load_data(self, path='data/toy_data.csv'):\n",
    "        '''Loads data from path into self.labels and self.images'''\n",
    "        self.path = path\n",
    "        data = np.genfromtxt(path, delimiter=',')\n",
    "        self.labels = data[:,0].astype(int)\n",
    "        self.images = data[:, 1:].reshape((len(data),50,50,1))\n",
    "        print(self.messages['load_data'])\n",
    "        return self\n",
    "    \n",
    "    def train_test_split(self, images=None, labels=None, test_size=0.2):\n",
    "        '''Wrapper around train_test_split'''\n",
    "        if images is None:\n",
    "            images = self.images\n",
    "        if labels is None:\n",
    "            labels = self.labels\n",
    "        self.images_train, self.images_test, self.labels_train, self.labels_test = \\\n",
    "        train_test_split(images, labels, test_size=test_size)\n",
    "        print(self.messages['train_test_split'])\n",
    "        return self\n",
    "        \n",
    "    def pre_proc_filter(self, images, size=2, sigma=2):\n",
    "        '''Applies Median filter and Gaussian filter to remove noise and hot\n",
    "        channels. Size refers to size of Median filter, sigma refers to Gaussian\n",
    "        filter parameter - larger for more blurring.\n",
    "        Parameters\n",
    "        ----------\n",
    "        size: int, optional \n",
    "        sigma: int, optional\n",
    "        '''\n",
    "        orig_shape = images.shape\n",
    "        images_new = []\n",
    "        for image in images.reshape((images.shape[0:-1])):        \n",
    "            image_new = ndimage.median_filter(image, size=size, mode='wrap')\n",
    "            image_new = ndimage.gaussian_filter(image_new, sigma=sigma)\n",
    "            images_new.append(image_new)\n",
    "        return np.array(images_new).reshape(orig_shape)\n",
    "    \n",
    "    def pre_proc_rescale(self, images, negative=False):\n",
    "        '''Subtract the mean, scales all image to between -1 and 1, and remove\n",
    "        all negative values (if False).\n",
    "        '''\n",
    "        orig_shape = images.shape\n",
    "        images_reshaped = images.reshape((orig_shape[0], -1))\n",
    "        images_scaled = np.subtract(images_reshaped, np.median(images_reshaped, axis=1, keepdims=True))\n",
    "        if not negative:\n",
    "            images_scaled[images_scaled < 0] = 0.\n",
    "        images_scaled = np.divide(images_scaled, np.max(images_scaled, axis=1, keepdims=True))\n",
    "        images_scaled = images_scaled.reshape(orig_shape)\n",
    "        return images_scaled\n",
    "    \n",
    "    def pre_proc(self, images, size=2, sigma=2, filters=False, rescale=True):\n",
    "        '''Helper function that removes applies pre-processing to givem images.\n",
    "        '''\n",
    "        x = images.copy()\n",
    "        if filters:\n",
    "            x = self.pre_proc_filter(x, size=size, sigma=sigma)\n",
    "        if rescale:\n",
    "            x = self.pre_proc_rescale(x)\n",
    "        return x\n",
    "    \n",
    "    def pre_proc_images(self, filters=False, rescale=True, \n",
    "                        train=False, test=False, attacked=False, size=2, sigma=2):\n",
    "        '''Pre-processes any of the 3 image sets (train, test, attacked).\n",
    "        Filters indicate if Median and Gaussian filters should be applied. \n",
    "        Rescale indicate if images should be rescaled.'''\n",
    "        if train:\n",
    "            self.x_train = self.pre_proc(self.images_train, size=size, \n",
    "                                         sigma=sigma, filters=filters, \n",
    "                                         rescale=rescale)\n",
    "        if test:\n",
    "            self.x_test = self.pre_proc(self.images_test, size=size, sigma=sigma,\n",
    "                                        filters=filters, rescale=rescale)\n",
    "        if attacked:\n",
    "            self.x_attacked = self.pre_proc(self.images_attacked, size=size,\n",
    "                                            sigma=sigma, filters=filters, \n",
    "                                            rescale=rescale)\n",
    "        return self\n",
    "    \n",
    "    def one_hot_encode_labels(self, train=False, test=False, attacked=False):\n",
    "        '''One hot encodes any of the 3 label sets (train, test, attacked).'''\n",
    "        if train:\n",
    "            self.y_train = to_categorical(self.labels_train)\n",
    "        if test:\n",
    "            self.y_test = to_categorical(self.labels_test)\n",
    "        if attacked:\n",
    "            self.y_attacked = to_categorical(self.labels_attacked)\n",
    "        print(self.messages['one_hot_encode'])\n",
    "        return self\n",
    "\n",
    "        \n",
    "    def train_model(self, x=None, y=None, val_split=0.2, epochs=10, verbose=1,\n",
    "                    callback=None, min_delta=0.2, patience=5):\n",
    "        '''Trains CNN model.'''\n",
    "        if x is None:\n",
    "            x = self.x_train\n",
    "        if y is None:\n",
    "            y = self.y_train\n",
    "        if callback is None:\n",
    "            self.callback = EarlyStopping(monitor='val_acc',\n",
    "                                      min_delta=min_delta,\n",
    "                                      patience=patience)\n",
    "            \n",
    "        self.model.compile(loss='categorical_crossentropy',\n",
    "                          optimizer='adam',\n",
    "                          metrics=['acc'])\n",
    "        \n",
    "        self.model.fit(x,\n",
    "                      y,  \n",
    "                      epochs=epochs,\n",
    "                      verbose=verbose,\n",
    "                      validation_split=val_split,\n",
    "                      callbacks=[self.callback])\n",
    "        print(self.messages['train_model'])\n",
    "        return self\n",
    "    \n",
    "    def evaluate_model(self, x_test=None, y_test=None):\n",
    "        '''Evaluate model against test set'''\n",
    "        if x_test is None:\n",
    "            x_test = self.x_test\n",
    "        if y_test is None:\n",
    "            y_test = self.y_test\n",
    "        self.model.evaluate(x_test, y_test)\n",
    "        y_pred = self.model.predict(x_test)\n",
    "        print(classification_report(np.argmax(y_test, axis=1), np.argmax(y_pred, axis=1)))\n",
    "        return self\n",
    "    \n",
    "    def gen_hot_channel_data(self, images=None, labels=None, value=None):\n",
    "        '''Adds a hot channel with double the max value at a random location \n",
    "        for each image.'''\n",
    "        change_self = False\n",
    "        if images is None:\n",
    "            images = self.images_test\n",
    "            change_self = True\n",
    "        if labels is None:\n",
    "            labels = self.labels_test\n",
    "        if value is None:\n",
    "            value = np.max(images) * 2\n",
    "        loc = np.random.randint(0, images.shape[2], size=(images.shape[0], 2))\n",
    "        images_edited = images.copy()\n",
    "        images_edited[np.arange(images.shape[0]),loc[:,0], loc[:,1]] = value\n",
    "        self.images_attacked = images_edited\n",
    "        self.x_attacked = self.pre_proc(self.images_attacked)\n",
    "        self.labels_attacked = labels\n",
    "        self.y_attacked = self.one_hot_encode_labels(labels)\n",
    "        print(self.messages['gen_hot_channel_data'])\n",
    "        return self\n",
    "    \n",
    "    def evaluate_attack(self, x=None, x_attacked=None, labels=None):\n",
    "        '''Evaluates the \n",
    "        against predictions without attack. Test data is used by default'''\n",
    "        if x is None:\n",
    "            x = self.x_test\n",
    "            x_attacked = self.x_attacked\n",
    "            labels_attacked = self.labels_attacked\n",
    "        original_pred = np.argmax(self.model.predict(x), axis=1).astype(int)\n",
    "        attacked_pred = np.argmax(self.model.predict(x_attacked), axis=1).astype(int)\n",
    "        self.predictions = original_pred\n",
    "        self.attacked_predictions = attacked_pred\n",
    "        self.misclassifications = np.invert(np.equal(original_pred, attacked_pred))\n",
    "        self.x_mis_orig = x[self.misclassifications]\n",
    "        self.x_mis_attacked = x_attacked[self.misclassifications]\n",
    "        self.pred_mis_orig = original_pred[self.misclassifications]\n",
    "        self.pred_mis_attacked = attacked_pred[self.misclassifications]\n",
    "        print('Labels: {} \\n Original Predictions: {} \\n Attacked Predictions: {}'\\\n",
    "              .format(np.bincount(labels_attacked), np.bincount(original_pred), np.bincount(attacked_pred)))\n",
    "        print(classification_report(original_pred, attacked_pred)) \n",
    "        return self\n",
    "    \n",
    "    def apply_attack(self, attack, images=None, labels=None, **kwargs):\n",
    "        '''Update images_attacked and labels_attacked after applying attack\n",
    "        on an image set (test by default). '''\n",
    "        if images is None:\n",
    "            images = self.images_test\n",
    "        if labels is None:\n",
    "            labels = self.labels_test\n",
    "        images_edited = images.copy()\n",
    "        images_edited = attack(images, **kwargs)\n",
    "        \n",
    "        self.images_attacked = images_edited\n",
    "        self.labels_attacked = labels\n",
    "        return self\n",
    "        \n",
    "    def add_hot_area(self, images, size, value=None, pos=None):\n",
    "        '''Adds a hot channel at a given location pos=(x, y) with \n",
    "        size (i, j) for a given image.\n",
    "        :param images (n, x, y, 1)\n",
    "        :param pos (x, y), x and y are arrays of length n\n",
    "        :param size (i, j)\n",
    "        :param value to be replaced'''\n",
    "        if pos is None:\n",
    "            x = np.random.randint(0, images.shape[1]-size[0],\n",
    "                                  size=(images.shape[0],1))\n",
    "            y = np.random.randint(0, images.shape[2]-size[1], \n",
    "                                  size=(images.shape[0], 1))\n",
    "            pos = np.concatenate([x, y], axis=1)\n",
    "        if value is None:\n",
    "            value = images.max()\n",
    "        for i in range(size[0]):\n",
    "            for j in range(size[1]):\n",
    "                images[np.arange(images.shape[0]), pos[:,0]+i, pos[:,1]+j, 0] = value\n",
    "        return images\n",
    "    \n",
    "    def hot_pixel_attack(self, images=None, labels=None, value=None):\n",
    "        if images is None:\n",
    "            images = self.images_test\n",
    "        if labels is None:\n",
    "            labels = self.labels_test\n",
    "        if value is None:\n",
    "            value = np.max(images) * 2\n",
    "            \n",
    "        loc = np.random.randint(0, images.shape[2], size=(images.shape[0], 2))\n",
    "        self.apply_attack(self.add_hot_area, images, labels, \n",
    "                          size=[1,1], value=value, pos=loc)\n",
    "        return self\n",
    "        \n",
    "    \n",
    "    def print_image(self, index, image_set):\n",
    "        '''Shows the nth image of an 4d image set of n images: (n, height, length, channel)'''\n",
    "        plt.imshow(image_set[index,:,:,0])\n",
    "        plt.show()\n",
    "        return self\n",
    "        \n",
    "    def show_misclassified_images(self, index):\n",
    "         for i in index:\n",
    "             self.print_image(i, self.x_mis_orig)\n",
    "             self.print_image(i, self.x_mis_attacked)\n",
    "             print('{}, {}'.format(self.pred_mis_orig[i],\n",
    "                                   self.pred_mis_attacked[i]))\n",
    "         return self"
   ]
  },
  {
   "cell_type": "code",
   "execution_count": 2,
   "metadata": {
    "colab": {
     "base_uri": "https://localhost:8080/",
     "height": 564
    },
    "colab_type": "code",
    "id": "vU11d42f3r7m",
    "outputId": "ecad8082-2dbd-4395-8d25-2d1736f1ac36"
   },
   "outputs": [
    {
     "name": "stdout",
     "output_type": "stream",
     "text": [
      "WARNING:tensorflow:From /usr/local/lib/python3.6/dist-packages/tensorflow_core/python/ops/resource_variable_ops.py:1630: calling BaseResourceVariable.__init__ (from tensorflow.python.ops.resource_variable_ops) with constraint is deprecated and will be removed in a future version.\n",
      "Instructions for updating:\n",
      "If using Keras pass *_constraint arguments to layers.\n",
      "Data loaded into self.images, self.labels\n",
      "Split into self.images_train, self.images_test, self.labels_train, self.labels_test\n",
      "Train and test labels encoded into self.y_train and self.y_test\n",
      "Train on 1920 samples, validate on 480 samples\n",
      "Epoch 1/10\n",
      "1920/1920 [==============================] - 9s 5ms/sample - loss: 0.6777 - acc: 0.6604 - val_loss: 0.2995 - val_acc: 0.8813\n",
      "Epoch 2/10\n",
      "1920/1920 [==============================] - 8s 4ms/sample - loss: 0.2694 - acc: 0.9005 - val_loss: 0.2855 - val_acc: 0.8917\n",
      "Epoch 3/10\n",
      "1920/1920 [==============================] - 8s 4ms/sample - loss: 0.2790 - acc: 0.8964 - val_loss: 0.2492 - val_acc: 0.9062\n",
      "Epoch 4/10\n",
      "1920/1920 [==============================] - 8s 4ms/sample - loss: 0.2161 - acc: 0.9224 - val_loss: 0.2335 - val_acc: 0.9104\n",
      "Epoch 5/10\n",
      "1920/1920 [==============================] - 8s 4ms/sample - loss: 0.1714 - acc: 0.9417 - val_loss: 0.1981 - val_acc: 0.9333\n",
      "Epoch 6/10\n",
      "1920/1920 [==============================] - 8s 4ms/sample - loss: 0.1637 - acc: 0.9427 - val_loss: 0.1554 - val_acc: 0.9479\n",
      "Model trained.\n",
      "600/600 [==============================] - 1s 1ms/sample - loss: 0.1173 - acc: 0.9533\n",
      "              precision    recall  f1-score   support\n",
      "\n",
      "           0       0.98      0.97      0.97       206\n",
      "           1       0.95      0.97      0.96       195\n",
      "           2       0.93      0.92      0.93       199\n",
      "\n",
      "    accuracy                           0.95       600\n",
      "   macro avg       0.95      0.95      0.95       600\n",
      "weighted avg       0.95      0.95      0.95       600\n",
      "\n"
     ]
    }
   ],
   "source": [
    "classifier = ParticleClassifier()\\\n",
    "                .load_data('/content/drive/My Drive/Year 3/BSc Project - Adversarial Attacks in CNN/toy_data.csv')\\\n",
    "                .train_test_split()\\\n",
    "                .pre_proc_images(train=True, test=True)\\\n",
    "                .one_hot_encode_labels(train=True, test=True)\\\n",
    "                .train_model()\\\n",
    "                .evaluate_model()\\"
   ]
  },
  {
   "cell_type": "code",
   "execution_count": 81,
   "metadata": {
    "colab": {
     "base_uri": "https://localhost:8080/",
     "height": 301
    },
    "colab_type": "code",
    "id": "ov4PPjMM3wRV",
    "outputId": "b7bbd19f-8a6e-43c5-8951-156bf812630d"
   },
   "outputs": [
    {
     "data": {
      "image/png": "[encoded data removed]",
      "text/plain": [
       "<Figure size 432x288 with 1 Axes>"
      ]
     },
     "metadata": {
      "tags": []
     },
     "output_type": "display_data"
    },
    {
     "name": "stdout",
     "output_type": "stream",
     "text": [
      "Max value 0.9999999017573722\n",
      "Min value 0.4038919455214274\n"
     ]
    }
   ],
   "source": [
    "# building a gaussian kernel\n",
    "\n",
    "def gaussian_kernel(a, b, s = 10, A = 0.9):\n",
    "  '''\n",
    "  :param (a,b), the position of the mean of the gaussian, at (x, y)\n",
    "  :param s, standard deviation\n",
    "  :param A, the multiplication factor\n",
    "  \n",
    "  These parameters can be varied to study their effects on the model prediction ---> to make plots etc\n",
    "  '''\n",
    "  x, y = np.meshgrid(np.linspace(0,50), np.linspace(0,50))\n",
    "  e = (2*abs(x-a)**2 + 3*abs(y-b)**2)/(2*s**2)\n",
    "  g = np.exp(-e)\n",
    "  return -A*g + 1\n",
    "\n",
    "z = gaussian_kernel(25, 25)\n",
    "plt.imshow(z[:,:])\n",
    "plt.show()\n",
    "print(\"Max value\", z.max())\n",
    "print(\"Min value\", z.min())"
   ]
  },
  {
   "cell_type": "code",
   "execution_count": 82,
   "metadata": {
    "colab": {
     "base_uri": "https://localhost:8080/",
     "height": 34
    },
    "colab_type": "code",
    "id": "KeMwXl4OUD7R",
    "outputId": "028d096c-3fb9-493b-a808-f6345554aff3"
   },
   "outputs": [
    {
     "name": "stdout",
     "output_type": "stream",
     "text": [
      "80 successful attack(s) out of 600 attacks, giving 13.333333333333334 %\n"
     ]
    }
   ],
   "source": [
    "def space_attack(n, plot = True):                    # for targeted attack\n",
    "    '''\n",
    "    Attacks just one image in the test set, given its index\n",
    "    The attack: Applies a gaussian kernel onto the image with its centre being\n",
    "    in where the max pixel used to be. \n",
    "\n",
    "    Returns: the old prediction and the new prediction\n",
    "    '''\n",
    "    i = classifier.x_test[n]\n",
    "    old_pred = np.argmax(classifier.model.predict(i.reshape((1, 50, 50, 1))))\n",
    "    if plot:\n",
    "      plt.imshow(i[:,:,0])\n",
    "      plt.show()\n",
    "    (b, a) = np.unravel_index(np.argmax(i[:,:,0]), (50, 50))\n",
    "    z = gaussian_kernel(a,b)\n",
    "    g_pic = np.multiply(i[:,:,0], z)\n",
    "    new_pred = np.argmax(classifier.model.predict(g_pic.reshape((1, 50, 50, 1))))\n",
    "\n",
    "    if plot:\n",
    "      plt.imshow(g_pic)\n",
    "      plt.show()\n",
    "      print('Old prediction', old_pred, ',', 'New prediction', new_pred)\n",
    "    \n",
    "    return [old_pred, new_pred]\n",
    "\n",
    "# to attack all images in the test set\n",
    "\n",
    "index_success = [] \n",
    "for i in range(600):\n",
    "  [old_pred, new_pred] = space_attack(i, plot = False)\n",
    "  if old_pred != new_pred:\n",
    "    index_success.append(i)\n",
    "    \n",
    "if len(index_success) == 0:\n",
    "  print(\"No successful attacks\")\n",
    "else:\n",
    "  print(len(index_success), \"successful attack(s) out of 600 attacks, giving\", len(index_success)/6, \"%\")\n",
    " "
   ]
  },
  {
   "cell_type": "code",
   "execution_count": 0,
   "metadata": {
    "colab": {},
    "colab_type": "code",
    "id": "y0R5WJdyqPgM"
   },
   "outputs": [],
   "source": [
    "print(classification_report(np.argmax(, axis=1), np.argmax(y_pred, axis=1)))"
   ]
  },
  {
   "cell_type": "code",
   "execution_count": 87,
   "metadata": {
    "colab": {
     "base_uri": "https://localhost:8080/",
     "height": 568
    },
    "colab_type": "code",
    "id": "oehNb6zYWVPK",
    "outputId": "96e18770-572a-46d2-d4f5-40b5fa9e3b33"
   },
   "outputs": [
    {
     "name": "stdout",
     "output_type": "stream",
     "text": [
      "128\n"
     ]
    },
    {
     "data": {
      "image/png": "[encoded data removed]",
      "text/plain": [
       "<Figure size 432x288 with 1 Axes>"
      ]
     },
     "metadata": {
      "tags": []
     },
     "output_type": "display_data"
    },
    {
     "data": {
      "image/png": "[encoded data removed]",
      "text/plain": [
       "<Figure size 432x288 with 1 Axes>"
      ]
     },
     "metadata": {
      "tags": []
     },
     "output_type": "display_data"
    },
    {
     "name": "stdout",
     "output_type": "stream",
     "text": [
      "Old prediction 0 , New prediction 2\n"
     ]
    },
    {
     "data": {
      "text/plain": [
       "[0, 2]"
      ]
     },
     "execution_count": 87,
     "metadata": {
      "tags": []
     },
     "output_type": "execute_result"
    }
   ],
   "source": [
    "v = np.random.choice(index_success)    # successful examples from targeted attack just now\n",
    "print(v)\n",
    "space_attack(v)"
   ]
  },
  {
   "cell_type": "code",
   "execution_count": 0,
   "metadata": {
    "colab": {},
    "colab_type": "code",
    "id": "KOIkIkMVKFM6"
   },
   "outputs": [],
   "source": [
    "def space_attack2(images):         # for the model \n",
    "  for i in images:\n",
    "    (b, a) = np.unravel_index(np.argmax(i[:,:,0]), (50, 50))\n",
    "    z = gaussian_kernel(a,b)\n",
    "    g_pic = np.multiply(i[:,:,0], z)\n",
    "  return images"
   ]
  },
  {
   "cell_type": "code",
   "execution_count": 86,
   "metadata": {
    "colab": {
     "base_uri": "https://localhost:8080/",
     "height": 272
    },
    "colab_type": "code",
    "id": "eOlsOLk26y0S",
    "outputId": "9416f033-d557-4be1-f149-d7e028c3d1b6"
   },
   "outputs": [
    {
     "name": "stdout",
     "output_type": "stream",
     "text": [
      "Train and test labels encoded into self.y_train and self.y_test\n",
      "Labels: [206 195 199] \n",
      " Original Predictions: [204 199 197] \n",
      " Attacked Predictions: [204 199 197]\n",
      "              precision    recall  f1-score   support\n",
      "\n",
      "           0       1.00      1.00      1.00       204\n",
      "           1       1.00      1.00      1.00       199\n",
      "           2       1.00      1.00      1.00       197\n",
      "\n",
      "    accuracy                           1.00       600\n",
      "   macro avg       1.00      1.00      1.00       600\n",
      "weighted avg       1.00      1.00      1.00       600\n",
      "\n"
     ]
    },
    {
     "data": {
      "text/plain": [
       "<__main__.ParticleClassifier at 0x7f8b01819320>"
      ]
     },
     "execution_count": 86,
     "metadata": {
      "tags": []
     },
     "output_type": "execute_result"
    }
   ],
   "source": [
    "classifier.apply_attack(space_attack2).pre_proc_images(attacked=True).one_hot_encode_labels(attacked=True).evaluate_attack()"
   ]
  },
  {
   "cell_type": "code",
   "execution_count": 0,
   "metadata": {
    "colab": {},
    "colab_type": "code",
    "id": "BtM-s1916ywS"
   },
   "outputs": [],
   "source": []
  },
  {
   "cell_type": "code",
   "execution_count": 0,
   "metadata": {
    "colab": {},
    "colab_type": "code",
    "id": "fivLsV5c6yqk"
   },
   "outputs": [],
   "source": []
  }
 ],
 "metadata": {
  "colab": {
   "authorship_tag": "ABX9TyOHvL6Uesdh5E6NW4XTnESo",
   "collapsed_sections": [],
   "include_colab_link": true,
   "mount_file_id": "1F5GebZvJiYU9kQkv6oLa6caYROOyrEXQ",
   "name": "Space_charge 2",
   "provenance": []
  },
  "kernelspec": {
   "display_name": "Python 3",
   "language": "python",
   "name": "python3"
  },
  "language_info": {
   "codemirror_mode": {
    "name": "ipython",
    "version": 3
   },
   "file_extension": ".py",
   "mimetype": "text/x-python",
   "name": "python",
   "nbconvert_exporter": "python",
   "pygments_lexer": "ipython3",
   "version": "3.6.7"
  }
 },
 "nbformat": 4,
 "nbformat_minor": 1
}
